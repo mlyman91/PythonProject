{
 "cells": [
  {
   "cell_type": "markdown",
   "id": "2baca774",
   "metadata": {},
   "source": [
    "# Data Cleaning"
   ]
  },
  {
   "cell_type": "markdown",
   "id": "0158531e",
   "metadata": {},
   "source": [
    "### Import Packages"
   ]
  },
  {
   "cell_type": "code",
   "execution_count": 2,
   "id": "2b921ae5",
   "metadata": {
    "scrolled": false
   },
   "outputs": [],
   "source": [
    "# Load Data Packages\n",
    "import pandas as pd\n",
    "import numpy as np\n",
    "import matplotlib.pyplot as plt\n",
    "import matplotlib.ticker as ticker\n",
    "import seaborn as sns\n",
    "import plotly.express as px"
   ]
  },
  {
   "cell_type": "markdown",
   "id": "7c42412d",
   "metadata": {},
   "source": [
    "### Read excel data into dataframe (df)"
   ]
  },
  {
   "cell_type": "code",
   "execution_count": 3,
   "id": "474d2d42",
   "metadata": {
    "scrolled": false
   },
   "outputs": [],
   "source": [
    "# Full Dataset\n",
    "df = pd.read_excel(r\"C:\\Users\\mlyman\\Desktop\\NYC Data Science\\Python Project\\Source Data\\Shark Tank Investments.xlsx\", \n",
    "                   sheet_name=\"Company Detail\")"
   ]
  },
  {
   "cell_type": "markdown",
   "id": "2b0e5bcd",
   "metadata": {},
   "source": [
    "### Reshape & Clean"
   ]
  },
  {
   "cell_type": "markdown",
   "id": "63373a5d",
   "metadata": {},
   "source": [
    "Transpose investor names into single column"
   ]
  },
  {
   "cell_type": "code",
   "execution_count": 3,
   "id": "6a75d4b5",
   "metadata": {
    "scrolled": false
   },
   "outputs": [],
   "source": [
    "df = pd.melt(df, id_vars = ['Company ','Season', 'Investment (yes or no)', 'Investment amount','Type of investment',\n",
    "                       'Company status', 'Company industry', 'Deal Closed'])"
   ]
  },
  {
   "cell_type": "markdown",
   "id": "25bee378",
   "metadata": {},
   "source": [
    "Rename & clean column headers"
   ]
  },
  {
   "cell_type": "code",
   "execution_count": 4,
   "id": "9fb086ae",
   "metadata": {
    "scrolled": false
   },
   "outputs": [],
   "source": [
    "# strip leading/trailing spaces and set all to lowercase\n",
    "df.columns = map(str.strip, map(str.lower, df.columns))"
   ]
  },
  {
   "cell_type": "code",
   "execution_count": 5,
   "id": "b3649989",
   "metadata": {
    "scrolled": false
   },
   "outputs": [],
   "source": [
    "# rename variables for clarity & easier querying\n",
    "df.rename(columns = {'variable':'shark', \n",
    "                     'investment (yes or no)': 'invested?',\n",
    "                     'type of investment':'investment_type'}, inplace = True)"
   ]
  },
  {
   "cell_type": "markdown",
   "id": "f7caae9e",
   "metadata": {},
   "source": [
    "Remove Leading/Trailing Spaces from shark names"
   ]
  },
  {
   "cell_type": "code",
   "execution_count": 6,
   "id": "0dc686c0",
   "metadata": {
    "scrolled": true
   },
   "outputs": [
    {
     "name": "stderr",
     "output_type": "stream",
     "text": [
      "C:\\Users\\mlyman\\AppData\\Local\\Temp\\ipykernel_25064\\3678196618.py:2: FutureWarning: The default value of regex will change from True to False in a future version. In addition, single character regular expressions will *not* be treated as literal strings when regex=True.\n",
      "  df['shark'] = df['shark'].str.strip().str.replace('.','')\n"
     ]
    }
   ],
   "source": [
    "# strip leading/trailing spaces from investor names\n",
    "df['shark'] = df['shark'].str.strip().str.replace('.','')\n"
   ]
  },
  {
   "cell_type": "markdown",
   "id": "9e36eb00",
   "metadata": {},
   "source": [
    "Clean up \"company status\" column"
   ]
  },
  {
   "cell_type": "code",
   "execution_count": 7,
   "id": "8ef53b72",
   "metadata": {},
   "outputs": [
    {
     "data": {
      "text/plain": [
       "array(['existing', nan, 'closed', 'sold', 'acquired'], dtype=object)"
      ]
     },
     "execution_count": 7,
     "metadata": {},
     "output_type": "execute_result"
    }
   ],
   "source": [
    "# set all to lowercase\n",
    "df[\"company status\"] = df[\"company status\"].str.lower()\n",
    "\n",
    "# rename \"out of business\" to \"closed\"\n",
    "df[\"company status\"] = df[\"company status\"].replace({'out of business':'closed'})\n",
    "\n",
    "# Review summary\n",
    "df[\"company status\"].unique()"
   ]
  },
  {
   "cell_type": "markdown",
   "id": "0bf217c0",
   "metadata": {},
   "source": [
    "### Add Additional Datapoints"
   ]
  },
  {
   "cell_type": "markdown",
   "id": "f1fc1f3d",
   "metadata": {},
   "source": [
    "##### Core Sharks\n",
    "\n",
    "These are the primary/recurring investors on the show:\n",
    "- Barbara Corcoran: \"Barbara\"\n",
    "- Daymond John: \"Daymond\"\n",
    "- Robert Herjavec: \"Robert\"\n",
    "- Kevin O'Leary: \"Kevin O\"\n",
    "- Mark Cuban: \"Mark\"\n",
    "- Lori Greiner: \"Lori\""
   ]
  },
  {
   "cell_type": "code",
   "execution_count": 8,
   "id": "5b7f0a90",
   "metadata": {
    "scrolled": false
   },
   "outputs": [],
   "source": [
    "df['core_shark'] = df['shark'].isin(['Daymond', 'Barbara', 'Robert', 'Kevin O', 'Mark','Lori'])"
   ]
  },
  {
   "cell_type": "code",
   "execution_count": 9,
   "id": "09591aa9",
   "metadata": {},
   "outputs": [
    {
     "name": "stdout",
     "output_type": "stream",
     "text": [
      "['Daymond' 'Barbara' 'Robert' 'Kevin O' 'Mark' 'Lori']\n"
     ]
    }
   ],
   "source": [
    "# Review list\n",
    "print(df[df['core_shark'] == True]['shark'].unique())"
   ]
  },
  {
   "cell_type": "markdown",
   "id": "a06261d1",
   "metadata": {},
   "source": [
    "##### Year\n",
    "Year that season ended (season 1 ended in 2010)"
   ]
  },
  {
   "cell_type": "code",
   "execution_count": 10,
   "id": "e8ab2d46",
   "metadata": {
    "scrolled": false
   },
   "outputs": [],
   "source": [
    "# Create \"get_year\" function\n",
    "def get_year(season):\n",
    "    return 2010 + (season - 1) # count up by season number minus one (i.e. Season 3 = 2010 + 3 -1 = 2012)\n",
    "\n",
    "# Apply get_year to identify the year each season ended\n",
    "df['year'] = df['season'].apply(get_year)"
   ]
  },
  {
   "cell_type": "markdown",
   "id": "05432126",
   "metadata": {},
   "source": [
    "##### Count\n",
    "Each row represents 1 investment for each shark. Sum of count results in total investments made. \n",
    "\n",
    "Note: more than one shark can invest in a deal. Therefore investments made does not always equal companies invested in. "
   ]
  },
  {
   "cell_type": "code",
   "execution_count": 11,
   "id": "8c844c1f",
   "metadata": {
    "scrolled": false
   },
   "outputs": [],
   "source": [
    "df['count'] = 1"
   ]
  },
  {
   "cell_type": "markdown",
   "id": "5d429c59",
   "metadata": {},
   "source": [
    "##### Values in Thousands (K) and Millions (M)"
   ]
  },
  {
   "cell_type": "code",
   "execution_count": 12,
   "id": "393a7aff",
   "metadata": {},
   "outputs": [],
   "source": [
    "df[\"value_k\"] = df[\"value\"]/1000\n",
    "df[\"value_m\"] = df[\"value\"]/1000000"
   ]
  },
  {
   "cell_type": "markdown",
   "id": "e4c9e036",
   "metadata": {},
   "source": [
    "# Create \"core_df\" dataframe"
   ]
  },
  {
   "cell_type": "markdown",
   "id": "95b20def",
   "metadata": {},
   "source": [
    "Core dataframe only contains investments by core sharks\n",
    "\n",
    "Does not contain rows with:\n",
    "- guest sharks\n",
    "- zero or null investment amounts"
   ]
  },
  {
   "cell_type": "code",
   "execution_count": 13,
   "id": "bb43706e",
   "metadata": {
    "scrolled": false
   },
   "outputs": [],
   "source": [
    "# filter for core sharks\n",
    "core_df = df[df['core_shark'] == True]\n",
    "\n",
    "# remove rows from core_df where values are null or zero (no investment made)\n",
    "core_df = core_df[(core_df['value'].notnull()) & (core_df['value'] != 0)]"
   ]
  },
  {
   "cell_type": "markdown",
   "id": "30bb1b67",
   "metadata": {},
   "source": [
    "# Investments by Industry"
   ]
  },
  {
   "cell_type": "markdown",
   "id": "e4053a9c",
   "metadata": {},
   "source": [
    "The top 10 indsutries, by number of investments, for reference"
   ]
  },
  {
   "cell_type": "code",
   "execution_count": 14,
   "id": "c0282779",
   "metadata": {
    "scrolled": false
   },
   "outputs": [
    {
     "data": {
      "text/html": [
       "<div>\n",
       "<style scoped>\n",
       "    .dataframe tbody tr th:only-of-type {\n",
       "        vertical-align: middle;\n",
       "    }\n",
       "\n",
       "    .dataframe tbody tr th {\n",
       "        vertical-align: top;\n",
       "    }\n",
       "\n",
       "    .dataframe thead th {\n",
       "        text-align: right;\n",
       "    }\n",
       "</style>\n",
       "<table border=\"1\" class=\"dataframe\">\n",
       "  <thead>\n",
       "    <tr style=\"text-align: right;\">\n",
       "      <th></th>\n",
       "      <th>count</th>\n",
       "    </tr>\n",
       "    <tr>\n",
       "      <th>company industry</th>\n",
       "      <th></th>\n",
       "    </tr>\n",
       "  </thead>\n",
       "  <tbody>\n",
       "    <tr>\n",
       "      <th>Food and Beverage</th>\n",
       "      <td>180</td>\n",
       "    </tr>\n",
       "    <tr>\n",
       "      <th>Fashion or clothing</th>\n",
       "      <td>98</td>\n",
       "    </tr>\n",
       "    <tr>\n",
       "      <th>Kid products</th>\n",
       "      <td>83</td>\n",
       "    </tr>\n",
       "    <tr>\n",
       "      <th>Health</th>\n",
       "      <td>77</td>\n",
       "    </tr>\n",
       "    <tr>\n",
       "      <th>Home</th>\n",
       "      <td>66</td>\n",
       "    </tr>\n",
       "    <tr>\n",
       "      <th>Outdoors</th>\n",
       "      <td>37</td>\n",
       "    </tr>\n",
       "    <tr>\n",
       "      <th>Pet products</th>\n",
       "      <td>36</td>\n",
       "    </tr>\n",
       "    <tr>\n",
       "      <th>Entertainment</th>\n",
       "      <td>35</td>\n",
       "    </tr>\n",
       "    <tr>\n",
       "      <th>Exercise</th>\n",
       "      <td>32</td>\n",
       "    </tr>\n",
       "    <tr>\n",
       "      <th>Tech</th>\n",
       "      <td>30</td>\n",
       "    </tr>\n",
       "  </tbody>\n",
       "</table>\n",
       "</div>"
      ],
      "text/plain": [
       "                     count\n",
       "company industry          \n",
       "Food and Beverage      180\n",
       "Fashion or clothing     98\n",
       "Kid products            83\n",
       "Health                  77\n",
       "Home                    66\n",
       "Outdoors                37\n",
       "Pet products            36\n",
       "Entertainment           35\n",
       "Exercise                32\n",
       "Tech                    30"
      ]
     },
     "execution_count": 14,
     "metadata": {},
     "output_type": "execute_result"
    }
   ],
   "source": [
    "industry_count = core_df.pivot_table(index = 'company industry', values = 'count', aggfunc = sum)\n",
    "industry_count.sort_values(by=['count'], ascending=False).head(10)"
   ]
  },
  {
   "cell_type": "markdown",
   "id": "190f73f1",
   "metadata": {},
   "source": [
    "# \"select_industry\" Function\n",
    "Function tailors subsequent charts and tables for selected industry. Steps are as follows:\n",
    "- User inputs the industry they would like to analyze, or inputs \"All\" to view all industries\n",
    "- The function checks to see if the industry is listed in the \"core_df\" dataframe\n",
    "   - If the industry is NOT valid, it returns an error with a list of industries\n",
    "   - If the industry is valid, it updates the industry_df dataframe and confirms selection\n",
    "- Subsequent graphs reference industry_df for builds"
   ]
  },
  {
   "cell_type": "code",
   "execution_count": 49,
   "id": "c7e117fa",
   "metadata": {},
   "outputs": [],
   "source": [
    "# Create function that confirms selection and updates global variable \"industry_selected\" for subsequent analysis\n",
    "def select_industry(selection):\n",
    "    \n",
    "    # Enable global variables\n",
    "    global industry_selected\n",
    "    global industry_df\n",
    "    \n",
    "    # Generate Industry List\n",
    "    industry_list = list(set(core_df[\"company industry\"]))\n",
    "    \n",
    "    # If \"selection\" = \"All\", use core_df (containing all industries)\n",
    "    if selection == \"All\":\n",
    "        industry_df = core_df[(core_df[\"deal closed\"] == \"y\")]\n",
    "        industry_selected = selection  # Update global value so user can confirm\n",
    "        return selection + \" industries will be incorporated into analysis\"\n",
    "    \n",
    "    # If selection is not all and is valid industry, filter database for related industry\n",
    "    elif selection in industry_list:\n",
    "        industry_selected = selection\n",
    "        industry_df = core_df[(core_df[\"company industry\"] == industry_selected) & (core_df[\"deal closed\"] == \"y\")]\n",
    "        \n",
    "        return \"The industry selected is \" + selection\n",
    "   \n",
    "    #If not valid, return error with options to select from\n",
    "    else:\n",
    "        return \"ERROR: \"+selection+\" is not found. Available industries are: All, \" + str(industry_list)"
   ]
  },
  {
   "cell_type": "code",
   "execution_count": 51,
   "id": "de624ab8",
   "metadata": {},
   "outputs": [
    {
     "data": {
      "text/plain": [
       "\"ERROR: test is not found. Available industries are: All, ['Tools', 'Pet products', 'Delivery service', 'Gifts', 'Art', 'Transportation', 'Automotive', 'Retail', 'Decoration', 'Safety and Security', 'Business', 'Productivity', 'Tech', 'Lifestyle', 'Construction', 'Kid products', 'Home', 'Entertainment', 'Education', 'Social', 'Travel', 'Rental', 'Health', 'Outdoors', 'Fashion or clothing', 'Music', 'Exercise', 'Food and Beverage', 'Organization', 'Gardening', 'Technology', 'Cleaning', 'Furniture']\""
      ]
     },
     "execution_count": 51,
     "metadata": {},
     "output_type": "execute_result"
    }
   ],
   "source": [
    "# Test invalid industry\n",
    "select_industry(\"test\")"
   ]
  },
  {
   "cell_type": "code",
   "execution_count": 52,
   "id": "fe14ae13",
   "metadata": {},
   "outputs": [
    {
     "data": {
      "text/plain": [
       "'The industry selected is Food and Beverage'"
      ]
     },
     "execution_count": 52,
     "metadata": {},
     "output_type": "execute_result"
    }
   ],
   "source": [
    "# Test valid industry\n",
    "select_industry(\"Food and Beverage\")"
   ]
  },
  {
   "cell_type": "code",
   "execution_count": 53,
   "id": "5ccd08d1",
   "metadata": {
    "scrolled": true
   },
   "outputs": [
    {
     "data": {
      "text/plain": [
       "'All industries will be incorporated into analysis'"
      ]
     },
     "execution_count": 53,
     "metadata": {},
     "output_type": "execute_result"
    }
   ],
   "source": [
    "# Test All\n",
    "select_industry(\"All\")"
   ]
  },
  {
   "cell_type": "markdown",
   "id": "45a1c85e",
   "metadata": {},
   "source": [
    "# Industry Specific Analysis\n",
    "Select an industry using the \"select_industry\" function.\n",
    "\n",
    "The database will be filtered for:\n",
    "- Company Industry = selection\n",
    "- Deal Closed = \"y\"\n",
    "    - Deals can come to an agreement on the show, but the owner can still back out backstage\n",
    "    - I will make the assumption that the deal will close, and want to understand success rates among this population"
   ]
  },
  {
   "cell_type": "code",
   "execution_count": 54,
   "id": "e0f1507f",
   "metadata": {},
   "outputs": [
    {
     "data": {
      "text/plain": [
       "'All industries will be incorporated into analysis'"
      ]
     },
     "execution_count": 54,
     "metadata": {},
     "output_type": "execute_result"
    }
   ],
   "source": [
    "select_industry(\"All\")"
   ]
  },
  {
   "cell_type": "markdown",
   "id": "6df38467",
   "metadata": {},
   "source": [
    "### Investment Sizes"
   ]
  },
  {
   "cell_type": "code",
   "execution_count": 55,
   "id": "b3ccc699",
   "metadata": {
    "scrolled": false
   },
   "outputs": [
    {
     "data": {
      "application/vnd.plotly.v1+json": {
       "config": {
        "plotlyServerURL": "https://plot.ly"
       },
       "data": [
        {
         "alignmentgroup": "True",
         "bingroup": "x",
         "histfunc": "sum",
         "hovertemplate": "value_k=%{x}<br>sum of count=%{y}<extra></extra>",
         "legendgroup": "",
         "marker": {
          "color": "#636efa",
          "pattern": {
           "shape": ""
          }
         },
         "name": "",
         "offsetgroup": "",
         "orientation": "v",
         "showlegend": false,
         "type": "histogram",
         "x": [
          250,
          125,
          100,
          50,
          250,
          100,
          100,
          500,
          75,
          40,
          150,
          40,
          300,
          100,
          35,
          50,
          250,
          54,
          70,
          125,
          300,
          50,
          125.00000000000003,
          300,
          50,
          150,
          275,
          200,
          50,
          300,
          500,
          75,
          100,
          77.77777777777779,
          20,
          325,
          75,
          60,
          75,
          100,
          50,
          250,
          100,
          250,
          50,
          200,
          150,
          50,
          250,
          500,
          250,
          300,
          150,
          60,
          112.5,
          125,
          100,
          17.5,
          100,
          150,
          200,
          200,
          25,
          50,
          350,
          90,
          50,
          50,
          125,
          20,
          50,
          50,
          50,
          50,
          75,
          250,
          50,
          83.33333333333334,
          55,
          150,
          150,
          300,
          25,
          300,
          125,
          37.5,
          175,
          37.5,
          75,
          200,
          12.5,
          100,
          150,
          300,
          70,
          100,
          50,
          50,
          100,
          200,
          200,
          50,
          300,
          300,
          250,
          50,
          125,
          150,
          250,
          250,
          50,
          20,
          175,
          50,
          83.33333333333334,
          75,
          150,
          150,
          125,
          300,
          125.00000000000003,
          300,
          75,
          100,
          150,
          300,
          75,
          375,
          600,
          125,
          75,
          110,
          60,
          750,
          200.00000000000003,
          100,
          83.33333333333333,
          100,
          275,
          75,
          200,
          66.66666666666666,
          200,
          100,
          250,
          150,
          125,
          166.66666666666666,
          300,
          200,
          50,
          1000,
          200,
          500,
          100,
          250,
          250,
          35,
          150,
          100,
          75,
          125.00000000000003,
          200,
          75,
          75,
          100,
          75,
          62.5,
          35,
          400,
          75,
          2500,
          22.222222222222225,
          200.00000000000003,
          83.33333333333333,
          225,
          300,
          75,
          80,
          100,
          500,
          50,
          300,
          500,
          200,
          300,
          500,
          75,
          150,
          250,
          80,
          250,
          200,
          600,
          125,
          150,
          270,
          1000,
          166.66666666666666,
          120,
          300,
          200,
          60,
          75,
          100,
          100,
          250,
          60,
          75,
          25,
          100,
          200,
          40,
          150,
          300,
          50,
          250,
          83.33333333333334,
          300,
          100,
          150,
          225,
          50,
          125,
          100,
          80,
          75,
          150,
          75,
          300,
          125,
          500.0000000000001,
          37.5,
          2000,
          75,
          250,
          200,
          50,
          250,
          100,
          75,
          250,
          350,
          250,
          1750,
          150,
          500,
          600,
          600,
          75,
          500,
          12.5,
          200,
          150,
          325,
          500,
          200.00000000000003,
          80,
          300,
          300,
          100,
          75,
          75,
          250,
          100,
          100,
          70,
          100,
          150,
          100,
          300,
          1000,
          150,
          500,
          100,
          500,
          66.66666666666666,
          100,
          75,
          75,
          120,
          100,
          75,
          200,
          300,
          100,
          100,
          125,
          250,
          50,
          200,
          50,
          50,
          112.5,
          550,
          50,
          40,
          550,
          100,
          250,
          600,
          250,
          250,
          100,
          450,
          180,
          150,
          500,
          150,
          300,
          600,
          50,
          300,
          150,
          1000,
          500,
          75,
          150,
          50,
          75,
          50,
          75,
          40,
          150,
          225,
          300,
          200,
          300,
          75,
          125.00000000000003,
          300,
          120,
          400,
          55,
          125,
          60,
          250,
          200,
          200,
          37.5,
          62.5,
          500,
          150,
          350,
          125,
          75,
          275,
          75,
          300,
          75,
          20,
          100,
          125,
          75,
          83.33333333333333,
          300,
          100,
          150,
          500,
          1000,
          100,
          75,
          75,
          500,
          66.66666666666666,
          75,
          100,
          75,
          50,
          75,
          120,
          1000,
          100,
          50,
          350,
          50,
          350,
          75,
          50,
          50,
          166.66666666666666,
          150,
          800,
          17.5,
          125,
          500,
          150,
          60,
          60,
          125,
          400,
          150,
          150,
          200,
          300,
          75,
          240
         ],
         "xaxis": "x",
         "y": [
          1,
          1,
          1,
          1,
          1,
          1,
          1,
          1,
          1,
          1,
          1,
          1,
          1,
          1,
          1,
          1,
          1,
          1,
          1,
          1,
          1,
          1,
          1,
          1,
          1,
          1,
          1,
          1,
          1,
          1,
          1,
          1,
          1,
          1,
          1,
          1,
          1,
          1,
          1,
          1,
          1,
          1,
          1,
          1,
          1,
          1,
          1,
          1,
          1,
          1,
          1,
          1,
          1,
          1,
          1,
          1,
          1,
          1,
          1,
          1,
          1,
          1,
          1,
          1,
          1,
          1,
          1,
          1,
          1,
          1,
          1,
          1,
          1,
          1,
          1,
          1,
          1,
          1,
          1,
          1,
          1,
          1,
          1,
          1,
          1,
          1,
          1,
          1,
          1,
          1,
          1,
          1,
          1,
          1,
          1,
          1,
          1,
          1,
          1,
          1,
          1,
          1,
          1,
          1,
          1,
          1,
          1,
          1,
          1,
          1,
          1,
          1,
          1,
          1,
          1,
          1,
          1,
          1,
          1,
          1,
          1,
          1,
          1,
          1,
          1,
          1,
          1,
          1,
          1,
          1,
          1,
          1,
          1,
          1,
          1,
          1,
          1,
          1,
          1,
          1,
          1,
          1,
          1,
          1,
          1,
          1,
          1,
          1,
          1,
          1,
          1,
          1,
          1,
          1,
          1,
          1,
          1,
          1,
          1,
          1,
          1,
          1,
          1,
          1,
          1,
          1,
          1,
          1,
          1,
          1,
          1,
          1,
          1,
          1,
          1,
          1,
          1,
          1,
          1,
          1,
          1,
          1,
          1,
          1,
          1,
          1,
          1,
          1,
          1,
          1,
          1,
          1,
          1,
          1,
          1,
          1,
          1,
          1,
          1,
          1,
          1,
          1,
          1,
          1,
          1,
          1,
          1,
          1,
          1,
          1,
          1,
          1,
          1,
          1,
          1,
          1,
          1,
          1,
          1,
          1,
          1,
          1,
          1,
          1,
          1,
          1,
          1,
          1,
          1,
          1,
          1,
          1,
          1,
          1,
          1,
          1,
          1,
          1,
          1,
          1,
          1,
          1,
          1,
          1,
          1,
          1,
          1,
          1,
          1,
          1,
          1,
          1,
          1,
          1,
          1,
          1,
          1,
          1,
          1,
          1,
          1,
          1,
          1,
          1,
          1,
          1,
          1,
          1,
          1,
          1,
          1,
          1,
          1,
          1,
          1,
          1,
          1,
          1,
          1,
          1,
          1,
          1,
          1,
          1,
          1,
          1,
          1,
          1,
          1,
          1,
          1,
          1,
          1,
          1,
          1,
          1,
          1,
          1,
          1,
          1,
          1,
          1,
          1,
          1,
          1,
          1,
          1,
          1,
          1,
          1,
          1,
          1,
          1,
          1,
          1,
          1,
          1,
          1,
          1,
          1,
          1,
          1,
          1,
          1,
          1,
          1,
          1,
          1,
          1,
          1,
          1,
          1,
          1,
          1,
          1,
          1,
          1,
          1,
          1,
          1,
          1,
          1,
          1,
          1,
          1,
          1,
          1,
          1,
          1,
          1,
          1,
          1,
          1,
          1,
          1,
          1,
          1,
          1,
          1,
          1,
          1,
          1,
          1,
          1,
          1,
          1,
          1,
          1,
          1,
          1,
          1,
          1,
          1,
          1,
          1,
          1,
          1,
          1,
          1,
          1,
          1,
          1,
          1,
          1,
          1,
          1,
          1,
          1,
          1,
          1,
          1,
          1,
          1,
          1,
          1,
          1,
          1
         ],
         "yaxis": "y"
        }
       ],
       "layout": {
        "barmode": "relative",
        "legend": {
         "tracegroupgap": 0
        },
        "template": {
         "data": {
          "bar": [
           {
            "error_x": {
             "color": "#2a3f5f"
            },
            "error_y": {
             "color": "#2a3f5f"
            },
            "marker": {
             "line": {
              "color": "#E5ECF6",
              "width": 0.5
             },
             "pattern": {
              "fillmode": "overlay",
              "size": 10,
              "solidity": 0.2
             }
            },
            "type": "bar"
           }
          ],
          "barpolar": [
           {
            "marker": {
             "line": {
              "color": "#E5ECF6",
              "width": 0.5
             },
             "pattern": {
              "fillmode": "overlay",
              "size": 10,
              "solidity": 0.2
             }
            },
            "type": "barpolar"
           }
          ],
          "carpet": [
           {
            "aaxis": {
             "endlinecolor": "#2a3f5f",
             "gridcolor": "white",
             "linecolor": "white",
             "minorgridcolor": "white",
             "startlinecolor": "#2a3f5f"
            },
            "baxis": {
             "endlinecolor": "#2a3f5f",
             "gridcolor": "white",
             "linecolor": "white",
             "minorgridcolor": "white",
             "startlinecolor": "#2a3f5f"
            },
            "type": "carpet"
           }
          ],
          "choropleth": [
           {
            "colorbar": {
             "outlinewidth": 0,
             "ticks": ""
            },
            "type": "choropleth"
           }
          ],
          "contour": [
           {
            "colorbar": {
             "outlinewidth": 0,
             "ticks": ""
            },
            "colorscale": [
             [
              0,
              "#0d0887"
             ],
             [
              0.1111111111111111,
              "#46039f"
             ],
             [
              0.2222222222222222,
              "#7201a8"
             ],
             [
              0.3333333333333333,
              "#9c179e"
             ],
             [
              0.4444444444444444,
              "#bd3786"
             ],
             [
              0.5555555555555556,
              "#d8576b"
             ],
             [
              0.6666666666666666,
              "#ed7953"
             ],
             [
              0.7777777777777778,
              "#fb9f3a"
             ],
             [
              0.8888888888888888,
              "#fdca26"
             ],
             [
              1,
              "#f0f921"
             ]
            ],
            "type": "contour"
           }
          ],
          "contourcarpet": [
           {
            "colorbar": {
             "outlinewidth": 0,
             "ticks": ""
            },
            "type": "contourcarpet"
           }
          ],
          "heatmap": [
           {
            "colorbar": {
             "outlinewidth": 0,
             "ticks": ""
            },
            "colorscale": [
             [
              0,
              "#0d0887"
             ],
             [
              0.1111111111111111,
              "#46039f"
             ],
             [
              0.2222222222222222,
              "#7201a8"
             ],
             [
              0.3333333333333333,
              "#9c179e"
             ],
             [
              0.4444444444444444,
              "#bd3786"
             ],
             [
              0.5555555555555556,
              "#d8576b"
             ],
             [
              0.6666666666666666,
              "#ed7953"
             ],
             [
              0.7777777777777778,
              "#fb9f3a"
             ],
             [
              0.8888888888888888,
              "#fdca26"
             ],
             [
              1,
              "#f0f921"
             ]
            ],
            "type": "heatmap"
           }
          ],
          "heatmapgl": [
           {
            "colorbar": {
             "outlinewidth": 0,
             "ticks": ""
            },
            "colorscale": [
             [
              0,
              "#0d0887"
             ],
             [
              0.1111111111111111,
              "#46039f"
             ],
             [
              0.2222222222222222,
              "#7201a8"
             ],
             [
              0.3333333333333333,
              "#9c179e"
             ],
             [
              0.4444444444444444,
              "#bd3786"
             ],
             [
              0.5555555555555556,
              "#d8576b"
             ],
             [
              0.6666666666666666,
              "#ed7953"
             ],
             [
              0.7777777777777778,
              "#fb9f3a"
             ],
             [
              0.8888888888888888,
              "#fdca26"
             ],
             [
              1,
              "#f0f921"
             ]
            ],
            "type": "heatmapgl"
           }
          ],
          "histogram": [
           {
            "marker": {
             "pattern": {
              "fillmode": "overlay",
              "size": 10,
              "solidity": 0.2
             }
            },
            "type": "histogram"
           }
          ],
          "histogram2d": [
           {
            "colorbar": {
             "outlinewidth": 0,
             "ticks": ""
            },
            "colorscale": [
             [
              0,
              "#0d0887"
             ],
             [
              0.1111111111111111,
              "#46039f"
             ],
             [
              0.2222222222222222,
              "#7201a8"
             ],
             [
              0.3333333333333333,
              "#9c179e"
             ],
             [
              0.4444444444444444,
              "#bd3786"
             ],
             [
              0.5555555555555556,
              "#d8576b"
             ],
             [
              0.6666666666666666,
              "#ed7953"
             ],
             [
              0.7777777777777778,
              "#fb9f3a"
             ],
             [
              0.8888888888888888,
              "#fdca26"
             ],
             [
              1,
              "#f0f921"
             ]
            ],
            "type": "histogram2d"
           }
          ],
          "histogram2dcontour": [
           {
            "colorbar": {
             "outlinewidth": 0,
             "ticks": ""
            },
            "colorscale": [
             [
              0,
              "#0d0887"
             ],
             [
              0.1111111111111111,
              "#46039f"
             ],
             [
              0.2222222222222222,
              "#7201a8"
             ],
             [
              0.3333333333333333,
              "#9c179e"
             ],
             [
              0.4444444444444444,
              "#bd3786"
             ],
             [
              0.5555555555555556,
              "#d8576b"
             ],
             [
              0.6666666666666666,
              "#ed7953"
             ],
             [
              0.7777777777777778,
              "#fb9f3a"
             ],
             [
              0.8888888888888888,
              "#fdca26"
             ],
             [
              1,
              "#f0f921"
             ]
            ],
            "type": "histogram2dcontour"
           }
          ],
          "mesh3d": [
           {
            "colorbar": {
             "outlinewidth": 0,
             "ticks": ""
            },
            "type": "mesh3d"
           }
          ],
          "parcoords": [
           {
            "line": {
             "colorbar": {
              "outlinewidth": 0,
              "ticks": ""
             }
            },
            "type": "parcoords"
           }
          ],
          "pie": [
           {
            "automargin": true,
            "type": "pie"
           }
          ],
          "scatter": [
           {
            "fillpattern": {
             "fillmode": "overlay",
             "size": 10,
             "solidity": 0.2
            },
            "type": "scatter"
           }
          ],
          "scatter3d": [
           {
            "line": {
             "colorbar": {
              "outlinewidth": 0,
              "ticks": ""
             }
            },
            "marker": {
             "colorbar": {
              "outlinewidth": 0,
              "ticks": ""
             }
            },
            "type": "scatter3d"
           }
          ],
          "scattercarpet": [
           {
            "marker": {
             "colorbar": {
              "outlinewidth": 0,
              "ticks": ""
             }
            },
            "type": "scattercarpet"
           }
          ],
          "scattergeo": [
           {
            "marker": {
             "colorbar": {
              "outlinewidth": 0,
              "ticks": ""
             }
            },
            "type": "scattergeo"
           }
          ],
          "scattergl": [
           {
            "marker": {
             "colorbar": {
              "outlinewidth": 0,
              "ticks": ""
             }
            },
            "type": "scattergl"
           }
          ],
          "scattermapbox": [
           {
            "marker": {
             "colorbar": {
              "outlinewidth": 0,
              "ticks": ""
             }
            },
            "type": "scattermapbox"
           }
          ],
          "scatterpolar": [
           {
            "marker": {
             "colorbar": {
              "outlinewidth": 0,
              "ticks": ""
             }
            },
            "type": "scatterpolar"
           }
          ],
          "scatterpolargl": [
           {
            "marker": {
             "colorbar": {
              "outlinewidth": 0,
              "ticks": ""
             }
            },
            "type": "scatterpolargl"
           }
          ],
          "scatterternary": [
           {
            "marker": {
             "colorbar": {
              "outlinewidth": 0,
              "ticks": ""
             }
            },
            "type": "scatterternary"
           }
          ],
          "surface": [
           {
            "colorbar": {
             "outlinewidth": 0,
             "ticks": ""
            },
            "colorscale": [
             [
              0,
              "#0d0887"
             ],
             [
              0.1111111111111111,
              "#46039f"
             ],
             [
              0.2222222222222222,
              "#7201a8"
             ],
             [
              0.3333333333333333,
              "#9c179e"
             ],
             [
              0.4444444444444444,
              "#bd3786"
             ],
             [
              0.5555555555555556,
              "#d8576b"
             ],
             [
              0.6666666666666666,
              "#ed7953"
             ],
             [
              0.7777777777777778,
              "#fb9f3a"
             ],
             [
              0.8888888888888888,
              "#fdca26"
             ],
             [
              1,
              "#f0f921"
             ]
            ],
            "type": "surface"
           }
          ],
          "table": [
           {
            "cells": {
             "fill": {
              "color": "#EBF0F8"
             },
             "line": {
              "color": "white"
             }
            },
            "header": {
             "fill": {
              "color": "#C8D4E3"
             },
             "line": {
              "color": "white"
             }
            },
            "type": "table"
           }
          ]
         },
         "layout": {
          "annotationdefaults": {
           "arrowcolor": "#2a3f5f",
           "arrowhead": 0,
           "arrowwidth": 1
          },
          "autotypenumbers": "strict",
          "coloraxis": {
           "colorbar": {
            "outlinewidth": 0,
            "ticks": ""
           }
          },
          "colorscale": {
           "diverging": [
            [
             0,
             "#8e0152"
            ],
            [
             0.1,
             "#c51b7d"
            ],
            [
             0.2,
             "#de77ae"
            ],
            [
             0.3,
             "#f1b6da"
            ],
            [
             0.4,
             "#fde0ef"
            ],
            [
             0.5,
             "#f7f7f7"
            ],
            [
             0.6,
             "#e6f5d0"
            ],
            [
             0.7,
             "#b8e186"
            ],
            [
             0.8,
             "#7fbc41"
            ],
            [
             0.9,
             "#4d9221"
            ],
            [
             1,
             "#276419"
            ]
           ],
           "sequential": [
            [
             0,
             "#0d0887"
            ],
            [
             0.1111111111111111,
             "#46039f"
            ],
            [
             0.2222222222222222,
             "#7201a8"
            ],
            [
             0.3333333333333333,
             "#9c179e"
            ],
            [
             0.4444444444444444,
             "#bd3786"
            ],
            [
             0.5555555555555556,
             "#d8576b"
            ],
            [
             0.6666666666666666,
             "#ed7953"
            ],
            [
             0.7777777777777778,
             "#fb9f3a"
            ],
            [
             0.8888888888888888,
             "#fdca26"
            ],
            [
             1,
             "#f0f921"
            ]
           ],
           "sequentialminus": [
            [
             0,
             "#0d0887"
            ],
            [
             0.1111111111111111,
             "#46039f"
            ],
            [
             0.2222222222222222,
             "#7201a8"
            ],
            [
             0.3333333333333333,
             "#9c179e"
            ],
            [
             0.4444444444444444,
             "#bd3786"
            ],
            [
             0.5555555555555556,
             "#d8576b"
            ],
            [
             0.6666666666666666,
             "#ed7953"
            ],
            [
             0.7777777777777778,
             "#fb9f3a"
            ],
            [
             0.8888888888888888,
             "#fdca26"
            ],
            [
             1,
             "#f0f921"
            ]
           ]
          },
          "colorway": [
           "#636efa",
           "#EF553B",
           "#00cc96",
           "#ab63fa",
           "#FFA15A",
           "#19d3f3",
           "#FF6692",
           "#B6E880",
           "#FF97FF",
           "#FECB52"
          ],
          "font": {
           "color": "#2a3f5f"
          },
          "geo": {
           "bgcolor": "white",
           "lakecolor": "white",
           "landcolor": "#E5ECF6",
           "showlakes": true,
           "showland": true,
           "subunitcolor": "white"
          },
          "hoverlabel": {
           "align": "left"
          },
          "hovermode": "closest",
          "mapbox": {
           "style": "light"
          },
          "paper_bgcolor": "white",
          "plot_bgcolor": "#E5ECF6",
          "polar": {
           "angularaxis": {
            "gridcolor": "white",
            "linecolor": "white",
            "ticks": ""
           },
           "bgcolor": "#E5ECF6",
           "radialaxis": {
            "gridcolor": "white",
            "linecolor": "white",
            "ticks": ""
           }
          },
          "scene": {
           "xaxis": {
            "backgroundcolor": "#E5ECF6",
            "gridcolor": "white",
            "gridwidth": 2,
            "linecolor": "white",
            "showbackground": true,
            "ticks": "",
            "zerolinecolor": "white"
           },
           "yaxis": {
            "backgroundcolor": "#E5ECF6",
            "gridcolor": "white",
            "gridwidth": 2,
            "linecolor": "white",
            "showbackground": true,
            "ticks": "",
            "zerolinecolor": "white"
           },
           "zaxis": {
            "backgroundcolor": "#E5ECF6",
            "gridcolor": "white",
            "gridwidth": 2,
            "linecolor": "white",
            "showbackground": true,
            "ticks": "",
            "zerolinecolor": "white"
           }
          },
          "shapedefaults": {
           "line": {
            "color": "#2a3f5f"
           }
          },
          "ternary": {
           "aaxis": {
            "gridcolor": "white",
            "linecolor": "white",
            "ticks": ""
           },
           "baxis": {
            "gridcolor": "white",
            "linecolor": "white",
            "ticks": ""
           },
           "bgcolor": "#E5ECF6",
           "caxis": {
            "gridcolor": "white",
            "linecolor": "white",
            "ticks": ""
           }
          },
          "title": {
           "x": 0.05
          },
          "xaxis": {
           "automargin": true,
           "gridcolor": "white",
           "linecolor": "white",
           "ticks": "",
           "title": {
            "standoff": 15
           },
           "zerolinecolor": "white",
           "zerolinewidth": 2
          },
          "yaxis": {
           "automargin": true,
           "gridcolor": "white",
           "linecolor": "white",
           "ticks": "",
           "title": {
            "standoff": 15
           },
           "zerolinecolor": "white",
           "zerolinewidth": 2
          }
         }
        },
        "title": {
         "text": "Histogram of Investments (All)"
        },
        "xaxis": {
         "anchor": "y",
         "domain": [
          0,
          1
         ],
         "title": {
          "text": "Investment Size (per shark)"
         }
        },
        "yaxis": {
         "anchor": "x",
         "domain": [
          0,
          1
         ],
         "title": {
          "text": "sum of count"
         }
        }
       }
      },
      "text/html": [
       "<div>                            <div id=\"bd665cb2-f940-42ad-9197-69a55a2938b6\" class=\"plotly-graph-div\" style=\"height:525px; width:100%;\"></div>            <script type=\"text/javascript\">                require([\"plotly\"], function(Plotly) {                    window.PLOTLYENV=window.PLOTLYENV || {};                                    if (document.getElementById(\"bd665cb2-f940-42ad-9197-69a55a2938b6\")) {                    Plotly.newPlot(                        \"bd665cb2-f940-42ad-9197-69a55a2938b6\",                        [{\"alignmentgroup\":\"True\",\"bingroup\":\"x\",\"histfunc\":\"sum\",\"hovertemplate\":\"value_k=%{x}<br>sum of count=%{y}<extra></extra>\",\"legendgroup\":\"\",\"marker\":{\"color\":\"#636efa\",\"pattern\":{\"shape\":\"\"}},\"name\":\"\",\"offsetgroup\":\"\",\"orientation\":\"v\",\"showlegend\":false,\"x\":[250.0,125.0,100.0,50.0,250.0,100.0,100.0,500.0,75.0,40.0,150.0,40.0,300.0,100.0,35.0,50.0,250.0,54.0,70.0,125.0,300.0,50.0,125.00000000000003,300.0,50.0,150.0,275.0,200.0,50.0,300.0,500.0,75.0,100.0,77.77777777777779,20.0,325.0,75.0,60.0,75.0,100.0,50.0,250.0,100.0,250.0,50.0,200.0,150.0,50.0,250.0,500.0,250.0,300.0,150.0,60.0,112.5,125.0,100.0,17.5,100.0,150.0,200.0,200.0,25.0,50.0,350.0,90.0,50.0,50.0,125.0,20.0,50.0,50.0,50.0,50.0,75.0,250.0,50.0,83.33333333333334,55.0,150.0,150.0,300.0,25.0,300.0,125.0,37.5,175.0,37.5,75.0,200.0,12.5,100.0,150.0,300.0,70.0,100.0,50.0,50.0,100.0,200.0,200.0,50.0,300.0,300.0,250.0,50.0,125.0,150.0,250.0,250.0,50.0,20.0,175.0,50.0,83.33333333333334,75.0,150.0,150.0,125.0,300.0,125.00000000000003,300.0,75.0,100.0,150.0,300.0,75.0,375.0,600.0,125.0,75.0,110.0,60.0,750.0,200.00000000000003,100.0,83.33333333333333,100.0,275.0,75.0,200.0,66.66666666666666,200.0,100.0,250.0,150.0,125.0,166.66666666666666,300.0,200.0,50.0,1000.0,200.0,500.0,100.0,250.0,250.0,35.0,150.0,100.0,75.0,125.00000000000003,200.0,75.0,75.0,100.0,75.0,62.5,35.0,400.0,75.0,2500.0,22.222222222222225,200.00000000000003,83.33333333333333,225.0,300.0,75.0,80.0,100.0,500.0,50.0,300.0,500.0,200.0,300.0,500.0,75.0,150.0,250.0,80.0,250.0,200.0,600.0,125.0,150.0,270.0,1000.0,166.66666666666666,120.0,300.0,200.0,60.0,75.0,100.0,100.0,250.0,60.0,75.0,25.0,100.0,200.0,40.0,150.0,300.0,50.0,250.0,83.33333333333334,300.0,100.0,150.0,225.0,50.0,125.0,100.0,80.0,75.0,150.0,75.0,300.0,125.0,500.0000000000001,37.5,2000.0,75.0,250.0,200.0,50.0,250.0,100.0,75.0,250.0,350.0,250.0,1750.0,150.0,500.0,600.0,600.0,75.0,500.0,12.5,200.0,150.0,325.0,500.0,200.00000000000003,80.0,300.0,300.0,100.0,75.0,75.0,250.0,100.0,100.0,70.0,100.0,150.0,100.0,300.0,1000.0,150.0,500.0,100.0,500.0,66.66666666666666,100.0,75.0,75.0,120.0,100.0,75.0,200.0,300.0,100.0,100.0,125.0,250.0,50.0,200.0,50.0,50.0,112.5,550.0,50.0,40.0,550.0,100.0,250.0,600.0,250.0,250.0,100.0,450.0,180.0,150.0,500.0,150.0,300.0,600.0,50.0,300.0,150.0,1000.0,500.0,75.0,150.0,50.0,75.0,50.0,75.0,40.0,150.0,225.0,300.0,200.0,300.0,75.0,125.00000000000003,300.0,120.0,400.0,55.0,125.0,60.0,250.0,200.0,200.0,37.5,62.5,500.0,150.0,350.0,125.0,75.0,275.0,75.0,300.0,75.0,20.0,100.0,125.0,75.0,83.33333333333333,300.0,100.0,150.0,500.0,1000.0,100.0,75.0,75.0,500.0,66.66666666666666,75.0,100.0,75.0,50.0,75.0,120.0,1000.0,100.0,50.0,350.0,50.0,350.0,75.0,50.0,50.0,166.66666666666666,150.0,800.0,17.5,125.0,500.0,150.0,60.0,60.0,125.0,400.0,150.0,150.0,200.0,300.0,75.0,240.0],\"xaxis\":\"x\",\"y\":[1,1,1,1,1,1,1,1,1,1,1,1,1,1,1,1,1,1,1,1,1,1,1,1,1,1,1,1,1,1,1,1,1,1,1,1,1,1,1,1,1,1,1,1,1,1,1,1,1,1,1,1,1,1,1,1,1,1,1,1,1,1,1,1,1,1,1,1,1,1,1,1,1,1,1,1,1,1,1,1,1,1,1,1,1,1,1,1,1,1,1,1,1,1,1,1,1,1,1,1,1,1,1,1,1,1,1,1,1,1,1,1,1,1,1,1,1,1,1,1,1,1,1,1,1,1,1,1,1,1,1,1,1,1,1,1,1,1,1,1,1,1,1,1,1,1,1,1,1,1,1,1,1,1,1,1,1,1,1,1,1,1,1,1,1,1,1,1,1,1,1,1,1,1,1,1,1,1,1,1,1,1,1,1,1,1,1,1,1,1,1,1,1,1,1,1,1,1,1,1,1,1,1,1,1,1,1,1,1,1,1,1,1,1,1,1,1,1,1,1,1,1,1,1,1,1,1,1,1,1,1,1,1,1,1,1,1,1,1,1,1,1,1,1,1,1,1,1,1,1,1,1,1,1,1,1,1,1,1,1,1,1,1,1,1,1,1,1,1,1,1,1,1,1,1,1,1,1,1,1,1,1,1,1,1,1,1,1,1,1,1,1,1,1,1,1,1,1,1,1,1,1,1,1,1,1,1,1,1,1,1,1,1,1,1,1,1,1,1,1,1,1,1,1,1,1,1,1,1,1,1,1,1,1,1,1,1,1,1,1,1,1,1,1,1,1,1,1,1,1,1,1,1,1,1,1,1,1,1,1,1,1,1,1,1,1,1,1,1,1,1,1,1,1,1,1,1,1,1,1,1,1,1,1,1,1,1,1,1,1,1,1,1,1,1,1,1],\"yaxis\":\"y\",\"type\":\"histogram\"}],                        {\"template\":{\"data\":{\"histogram2dcontour\":[{\"type\":\"histogram2dcontour\",\"colorbar\":{\"outlinewidth\":0,\"ticks\":\"\"},\"colorscale\":[[0.0,\"#0d0887\"],[0.1111111111111111,\"#46039f\"],[0.2222222222222222,\"#7201a8\"],[0.3333333333333333,\"#9c179e\"],[0.4444444444444444,\"#bd3786\"],[0.5555555555555556,\"#d8576b\"],[0.6666666666666666,\"#ed7953\"],[0.7777777777777778,\"#fb9f3a\"],[0.8888888888888888,\"#fdca26\"],[1.0,\"#f0f921\"]]}],\"choropleth\":[{\"type\":\"choropleth\",\"colorbar\":{\"outlinewidth\":0,\"ticks\":\"\"}}],\"histogram2d\":[{\"type\":\"histogram2d\",\"colorbar\":{\"outlinewidth\":0,\"ticks\":\"\"},\"colorscale\":[[0.0,\"#0d0887\"],[0.1111111111111111,\"#46039f\"],[0.2222222222222222,\"#7201a8\"],[0.3333333333333333,\"#9c179e\"],[0.4444444444444444,\"#bd3786\"],[0.5555555555555556,\"#d8576b\"],[0.6666666666666666,\"#ed7953\"],[0.7777777777777778,\"#fb9f3a\"],[0.8888888888888888,\"#fdca26\"],[1.0,\"#f0f921\"]]}],\"heatmap\":[{\"type\":\"heatmap\",\"colorbar\":{\"outlinewidth\":0,\"ticks\":\"\"},\"colorscale\":[[0.0,\"#0d0887\"],[0.1111111111111111,\"#46039f\"],[0.2222222222222222,\"#7201a8\"],[0.3333333333333333,\"#9c179e\"],[0.4444444444444444,\"#bd3786\"],[0.5555555555555556,\"#d8576b\"],[0.6666666666666666,\"#ed7953\"],[0.7777777777777778,\"#fb9f3a\"],[0.8888888888888888,\"#fdca26\"],[1.0,\"#f0f921\"]]}],\"heatmapgl\":[{\"type\":\"heatmapgl\",\"colorbar\":{\"outlinewidth\":0,\"ticks\":\"\"},\"colorscale\":[[0.0,\"#0d0887\"],[0.1111111111111111,\"#46039f\"],[0.2222222222222222,\"#7201a8\"],[0.3333333333333333,\"#9c179e\"],[0.4444444444444444,\"#bd3786\"],[0.5555555555555556,\"#d8576b\"],[0.6666666666666666,\"#ed7953\"],[0.7777777777777778,\"#fb9f3a\"],[0.8888888888888888,\"#fdca26\"],[1.0,\"#f0f921\"]]}],\"contourcarpet\":[{\"type\":\"contourcarpet\",\"colorbar\":{\"outlinewidth\":0,\"ticks\":\"\"}}],\"contour\":[{\"type\":\"contour\",\"colorbar\":{\"outlinewidth\":0,\"ticks\":\"\"},\"colorscale\":[[0.0,\"#0d0887\"],[0.1111111111111111,\"#46039f\"],[0.2222222222222222,\"#7201a8\"],[0.3333333333333333,\"#9c179e\"],[0.4444444444444444,\"#bd3786\"],[0.5555555555555556,\"#d8576b\"],[0.6666666666666666,\"#ed7953\"],[0.7777777777777778,\"#fb9f3a\"],[0.8888888888888888,\"#fdca26\"],[1.0,\"#f0f921\"]]}],\"surface\":[{\"type\":\"surface\",\"colorbar\":{\"outlinewidth\":0,\"ticks\":\"\"},\"colorscale\":[[0.0,\"#0d0887\"],[0.1111111111111111,\"#46039f\"],[0.2222222222222222,\"#7201a8\"],[0.3333333333333333,\"#9c179e\"],[0.4444444444444444,\"#bd3786\"],[0.5555555555555556,\"#d8576b\"],[0.6666666666666666,\"#ed7953\"],[0.7777777777777778,\"#fb9f3a\"],[0.8888888888888888,\"#fdca26\"],[1.0,\"#f0f921\"]]}],\"mesh3d\":[{\"type\":\"mesh3d\",\"colorbar\":{\"outlinewidth\":0,\"ticks\":\"\"}}],\"scatter\":[{\"fillpattern\":{\"fillmode\":\"overlay\",\"size\":10,\"solidity\":0.2},\"type\":\"scatter\"}],\"parcoords\":[{\"type\":\"parcoords\",\"line\":{\"colorbar\":{\"outlinewidth\":0,\"ticks\":\"\"}}}],\"scatterpolargl\":[{\"type\":\"scatterpolargl\",\"marker\":{\"colorbar\":{\"outlinewidth\":0,\"ticks\":\"\"}}}],\"bar\":[{\"error_x\":{\"color\":\"#2a3f5f\"},\"error_y\":{\"color\":\"#2a3f5f\"},\"marker\":{\"line\":{\"color\":\"#E5ECF6\",\"width\":0.5},\"pattern\":{\"fillmode\":\"overlay\",\"size\":10,\"solidity\":0.2}},\"type\":\"bar\"}],\"scattergeo\":[{\"type\":\"scattergeo\",\"marker\":{\"colorbar\":{\"outlinewidth\":0,\"ticks\":\"\"}}}],\"scatterpolar\":[{\"type\":\"scatterpolar\",\"marker\":{\"colorbar\":{\"outlinewidth\":0,\"ticks\":\"\"}}}],\"histogram\":[{\"marker\":{\"pattern\":{\"fillmode\":\"overlay\",\"size\":10,\"solidity\":0.2}},\"type\":\"histogram\"}],\"scattergl\":[{\"type\":\"scattergl\",\"marker\":{\"colorbar\":{\"outlinewidth\":0,\"ticks\":\"\"}}}],\"scatter3d\":[{\"type\":\"scatter3d\",\"line\":{\"colorbar\":{\"outlinewidth\":0,\"ticks\":\"\"}},\"marker\":{\"colorbar\":{\"outlinewidth\":0,\"ticks\":\"\"}}}],\"scattermapbox\":[{\"type\":\"scattermapbox\",\"marker\":{\"colorbar\":{\"outlinewidth\":0,\"ticks\":\"\"}}}],\"scatterternary\":[{\"type\":\"scatterternary\",\"marker\":{\"colorbar\":{\"outlinewidth\":0,\"ticks\":\"\"}}}],\"scattercarpet\":[{\"type\":\"scattercarpet\",\"marker\":{\"colorbar\":{\"outlinewidth\":0,\"ticks\":\"\"}}}],\"carpet\":[{\"aaxis\":{\"endlinecolor\":\"#2a3f5f\",\"gridcolor\":\"white\",\"linecolor\":\"white\",\"minorgridcolor\":\"white\",\"startlinecolor\":\"#2a3f5f\"},\"baxis\":{\"endlinecolor\":\"#2a3f5f\",\"gridcolor\":\"white\",\"linecolor\":\"white\",\"minorgridcolor\":\"white\",\"startlinecolor\":\"#2a3f5f\"},\"type\":\"carpet\"}],\"table\":[{\"cells\":{\"fill\":{\"color\":\"#EBF0F8\"},\"line\":{\"color\":\"white\"}},\"header\":{\"fill\":{\"color\":\"#C8D4E3\"},\"line\":{\"color\":\"white\"}},\"type\":\"table\"}],\"barpolar\":[{\"marker\":{\"line\":{\"color\":\"#E5ECF6\",\"width\":0.5},\"pattern\":{\"fillmode\":\"overlay\",\"size\":10,\"solidity\":0.2}},\"type\":\"barpolar\"}],\"pie\":[{\"automargin\":true,\"type\":\"pie\"}]},\"layout\":{\"autotypenumbers\":\"strict\",\"colorway\":[\"#636efa\",\"#EF553B\",\"#00cc96\",\"#ab63fa\",\"#FFA15A\",\"#19d3f3\",\"#FF6692\",\"#B6E880\",\"#FF97FF\",\"#FECB52\"],\"font\":{\"color\":\"#2a3f5f\"},\"hovermode\":\"closest\",\"hoverlabel\":{\"align\":\"left\"},\"paper_bgcolor\":\"white\",\"plot_bgcolor\":\"#E5ECF6\",\"polar\":{\"bgcolor\":\"#E5ECF6\",\"angularaxis\":{\"gridcolor\":\"white\",\"linecolor\":\"white\",\"ticks\":\"\"},\"radialaxis\":{\"gridcolor\":\"white\",\"linecolor\":\"white\",\"ticks\":\"\"}},\"ternary\":{\"bgcolor\":\"#E5ECF6\",\"aaxis\":{\"gridcolor\":\"white\",\"linecolor\":\"white\",\"ticks\":\"\"},\"baxis\":{\"gridcolor\":\"white\",\"linecolor\":\"white\",\"ticks\":\"\"},\"caxis\":{\"gridcolor\":\"white\",\"linecolor\":\"white\",\"ticks\":\"\"}},\"coloraxis\":{\"colorbar\":{\"outlinewidth\":0,\"ticks\":\"\"}},\"colorscale\":{\"sequential\":[[0.0,\"#0d0887\"],[0.1111111111111111,\"#46039f\"],[0.2222222222222222,\"#7201a8\"],[0.3333333333333333,\"#9c179e\"],[0.4444444444444444,\"#bd3786\"],[0.5555555555555556,\"#d8576b\"],[0.6666666666666666,\"#ed7953\"],[0.7777777777777778,\"#fb9f3a\"],[0.8888888888888888,\"#fdca26\"],[1.0,\"#f0f921\"]],\"sequentialminus\":[[0.0,\"#0d0887\"],[0.1111111111111111,\"#46039f\"],[0.2222222222222222,\"#7201a8\"],[0.3333333333333333,\"#9c179e\"],[0.4444444444444444,\"#bd3786\"],[0.5555555555555556,\"#d8576b\"],[0.6666666666666666,\"#ed7953\"],[0.7777777777777778,\"#fb9f3a\"],[0.8888888888888888,\"#fdca26\"],[1.0,\"#f0f921\"]],\"diverging\":[[0,\"#8e0152\"],[0.1,\"#c51b7d\"],[0.2,\"#de77ae\"],[0.3,\"#f1b6da\"],[0.4,\"#fde0ef\"],[0.5,\"#f7f7f7\"],[0.6,\"#e6f5d0\"],[0.7,\"#b8e186\"],[0.8,\"#7fbc41\"],[0.9,\"#4d9221\"],[1,\"#276419\"]]},\"xaxis\":{\"gridcolor\":\"white\",\"linecolor\":\"white\",\"ticks\":\"\",\"title\":{\"standoff\":15},\"zerolinecolor\":\"white\",\"automargin\":true,\"zerolinewidth\":2},\"yaxis\":{\"gridcolor\":\"white\",\"linecolor\":\"white\",\"ticks\":\"\",\"title\":{\"standoff\":15},\"zerolinecolor\":\"white\",\"automargin\":true,\"zerolinewidth\":2},\"scene\":{\"xaxis\":{\"backgroundcolor\":\"#E5ECF6\",\"gridcolor\":\"white\",\"linecolor\":\"white\",\"showbackground\":true,\"ticks\":\"\",\"zerolinecolor\":\"white\",\"gridwidth\":2},\"yaxis\":{\"backgroundcolor\":\"#E5ECF6\",\"gridcolor\":\"white\",\"linecolor\":\"white\",\"showbackground\":true,\"ticks\":\"\",\"zerolinecolor\":\"white\",\"gridwidth\":2},\"zaxis\":{\"backgroundcolor\":\"#E5ECF6\",\"gridcolor\":\"white\",\"linecolor\":\"white\",\"showbackground\":true,\"ticks\":\"\",\"zerolinecolor\":\"white\",\"gridwidth\":2}},\"shapedefaults\":{\"line\":{\"color\":\"#2a3f5f\"}},\"annotationdefaults\":{\"arrowcolor\":\"#2a3f5f\",\"arrowhead\":0,\"arrowwidth\":1},\"geo\":{\"bgcolor\":\"white\",\"landcolor\":\"#E5ECF6\",\"subunitcolor\":\"white\",\"showland\":true,\"showlakes\":true,\"lakecolor\":\"white\"},\"title\":{\"x\":0.05},\"mapbox\":{\"style\":\"light\"}}},\"xaxis\":{\"anchor\":\"y\",\"domain\":[0.0,1.0],\"title\":{\"text\":\"Investment Size (per shark)\"}},\"yaxis\":{\"anchor\":\"x\",\"domain\":[0.0,1.0],\"title\":{\"text\":\"sum of count\"}},\"legend\":{\"tracegroupgap\":0},\"title\":{\"text\":\"Histogram of Investments (All)\"},\"barmode\":\"relative\"},                        {\"responsive\": true}                    ).then(function(){\n",
       "                            \n",
       "var gd = document.getElementById('bd665cb2-f940-42ad-9197-69a55a2938b6');\n",
       "var x = new MutationObserver(function (mutations, observer) {{\n",
       "        var display = window.getComputedStyle(gd).display;\n",
       "        if (!display || display === 'none') {{\n",
       "            console.log([gd, 'removed!']);\n",
       "            Plotly.purge(gd);\n",
       "            observer.disconnect();\n",
       "        }}\n",
       "}});\n",
       "\n",
       "// Listen for the removal of the full notebook cells\n",
       "var notebookContainer = gd.closest('#notebook-container');\n",
       "if (notebookContainer) {{\n",
       "    x.observe(notebookContainer, {childList: true});\n",
       "}}\n",
       "\n",
       "// Listen for the clearing of the current output cell\n",
       "var outputEl = gd.closest('.output');\n",
       "if (outputEl) {{\n",
       "    x.observe(outputEl, {childList: true});\n",
       "}}\n",
       "\n",
       "                        })                };                });            </script>        </div>"
      ]
     },
     "metadata": {},
     "output_type": "display_data"
    }
   ],
   "source": [
    "# Histogram of all investments since season 1\n",
    "px.histogram(industry_df, \n",
    "                   x=\"value_k\", \n",
    "                   y=\"count\", \n",
    "                   title = \"Histogram of Investments (\"+industry_selected+\")\"\n",
    "             \n",
    ").update_layout(xaxis_title = \"Investment Size (per shark)\").show()"
   ]
  },
  {
   "cell_type": "code",
   "execution_count": 56,
   "id": "f6f63115",
   "metadata": {
    "scrolled": false
   },
   "outputs": [
    {
     "data": {
      "application/vnd.plotly.v1+json": {
       "config": {
        "plotlyServerURL": "https://plot.ly"
       },
       "data": [
        {
         "alignmentgroup": "True",
         "bingroup": "x",
         "histfunc": "sum",
         "hovertemplate": "value_k=%{x}<br>sum of count=%{y}<extra></extra>",
         "legendgroup": "",
         "marker": {
          "color": "#636efa",
          "pattern": {
           "shape": ""
          }
         },
         "name": "",
         "offsetgroup": "",
         "orientation": "v",
         "showlegend": false,
         "type": "histogram",
         "x": [
          250,
          125,
          100,
          50,
          250,
          100,
          100,
          500,
          75,
          40,
          150,
          40,
          300,
          100,
          35,
          50,
          250,
          54,
          70,
          125,
          300,
          50,
          125.00000000000003,
          300,
          50,
          150,
          275,
          200,
          50,
          300,
          500,
          75,
          100,
          77.77777777777779,
          20,
          325,
          75,
          60,
          75,
          100,
          50,
          250,
          100,
          250,
          50,
          200,
          150,
          50,
          250,
          500,
          250,
          300,
          150,
          60,
          112.5,
          125,
          100,
          17.5,
          100,
          150,
          200,
          200,
          25,
          50,
          350,
          90,
          50,
          50,
          125,
          20,
          50,
          50,
          50,
          50,
          75,
          250,
          50,
          83.33333333333334,
          55,
          150,
          150,
          300,
          25,
          300,
          125,
          37.5,
          175,
          37.5,
          75,
          200,
          12.5,
          100,
          150,
          300,
          70,
          100,
          50,
          50,
          100,
          200,
          200,
          50,
          300,
          300,
          250,
          50,
          125,
          150,
          250,
          250,
          50,
          20,
          175,
          50,
          83.33333333333334,
          75,
          150,
          150,
          125,
          300,
          125.00000000000003,
          300,
          75,
          100,
          150,
          300,
          75,
          375,
          600,
          125,
          75,
          110,
          60,
          750,
          200.00000000000003,
          100,
          83.33333333333333,
          100,
          275,
          75,
          200,
          66.66666666666666,
          200,
          100,
          250,
          150,
          125,
          166.66666666666666,
          300,
          200,
          50,
          200,
          500,
          100,
          250,
          250,
          35,
          150,
          100,
          75,
          125.00000000000003,
          200,
          75,
          75,
          100,
          75,
          62.5,
          35,
          400,
          75,
          22.222222222222225,
          200.00000000000003,
          83.33333333333333,
          225,
          300,
          75,
          80,
          100,
          500,
          50,
          300,
          500,
          200,
          300,
          500,
          75,
          150,
          250,
          80,
          250,
          200,
          600,
          125,
          150,
          270,
          166.66666666666666,
          120,
          300,
          200,
          60,
          75,
          100,
          100,
          250,
          60,
          75,
          25,
          100,
          200,
          40,
          150,
          300,
          50,
          250,
          83.33333333333334,
          300,
          100,
          150,
          225,
          50,
          125,
          100,
          80,
          75,
          150,
          75,
          300,
          125,
          500.0000000000001,
          37.5,
          75,
          250,
          200,
          50,
          250,
          100,
          75,
          250,
          350,
          250,
          150,
          500,
          600,
          600,
          75,
          500,
          12.5,
          200,
          150,
          325,
          500,
          200.00000000000003,
          80,
          300,
          300,
          100,
          75,
          75,
          250,
          100,
          100,
          70,
          100,
          150,
          100,
          300,
          150,
          500,
          100,
          500,
          66.66666666666666,
          100,
          75,
          75,
          120,
          100,
          75,
          200,
          300,
          100,
          100,
          125,
          250,
          50,
          200,
          50,
          50,
          112.5,
          550,
          50,
          40,
          550,
          100,
          250,
          600,
          250,
          250,
          100,
          450,
          180,
          150,
          500,
          150,
          300,
          600,
          50,
          300,
          150,
          500,
          75,
          150,
          50,
          75,
          50,
          75,
          40,
          150,
          225,
          300,
          200,
          300,
          75,
          125.00000000000003,
          300,
          120,
          400,
          55,
          125,
          60,
          250,
          200,
          200,
          37.5,
          62.5,
          500,
          150,
          350,
          125,
          75,
          275,
          75,
          300,
          75,
          20,
          100,
          125,
          75,
          83.33333333333333,
          300,
          100,
          150,
          500,
          100,
          75,
          75,
          500,
          66.66666666666666,
          75,
          100,
          75,
          50,
          75,
          120,
          100,
          50,
          350,
          50,
          350,
          75,
          50,
          50,
          166.66666666666666,
          150,
          800,
          17.5,
          125,
          500,
          150,
          60,
          60,
          125,
          400,
          150,
          150,
          200,
          300,
          75,
          240
         ],
         "xaxis": "x",
         "y": [
          1,
          1,
          1,
          1,
          1,
          1,
          1,
          1,
          1,
          1,
          1,
          1,
          1,
          1,
          1,
          1,
          1,
          1,
          1,
          1,
          1,
          1,
          1,
          1,
          1,
          1,
          1,
          1,
          1,
          1,
          1,
          1,
          1,
          1,
          1,
          1,
          1,
          1,
          1,
          1,
          1,
          1,
          1,
          1,
          1,
          1,
          1,
          1,
          1,
          1,
          1,
          1,
          1,
          1,
          1,
          1,
          1,
          1,
          1,
          1,
          1,
          1,
          1,
          1,
          1,
          1,
          1,
          1,
          1,
          1,
          1,
          1,
          1,
          1,
          1,
          1,
          1,
          1,
          1,
          1,
          1,
          1,
          1,
          1,
          1,
          1,
          1,
          1,
          1,
          1,
          1,
          1,
          1,
          1,
          1,
          1,
          1,
          1,
          1,
          1,
          1,
          1,
          1,
          1,
          1,
          1,
          1,
          1,
          1,
          1,
          1,
          1,
          1,
          1,
          1,
          1,
          1,
          1,
          1,
          1,
          1,
          1,
          1,
          1,
          1,
          1,
          1,
          1,
          1,
          1,
          1,
          1,
          1,
          1,
          1,
          1,
          1,
          1,
          1,
          1,
          1,
          1,
          1,
          1,
          1,
          1,
          1,
          1,
          1,
          1,
          1,
          1,
          1,
          1,
          1,
          1,
          1,
          1,
          1,
          1,
          1,
          1,
          1,
          1,
          1,
          1,
          1,
          1,
          1,
          1,
          1,
          1,
          1,
          1,
          1,
          1,
          1,
          1,
          1,
          1,
          1,
          1,
          1,
          1,
          1,
          1,
          1,
          1,
          1,
          1,
          1,
          1,
          1,
          1,
          1,
          1,
          1,
          1,
          1,
          1,
          1,
          1,
          1,
          1,
          1,
          1,
          1,
          1,
          1,
          1,
          1,
          1,
          1,
          1,
          1,
          1,
          1,
          1,
          1,
          1,
          1,
          1,
          1,
          1,
          1,
          1,
          1,
          1,
          1,
          1,
          1,
          1,
          1,
          1,
          1,
          1,
          1,
          1,
          1,
          1,
          1,
          1,
          1,
          1,
          1,
          1,
          1,
          1,
          1,
          1,
          1,
          1,
          1,
          1,
          1,
          1,
          1,
          1,
          1,
          1,
          1,
          1,
          1,
          1,
          1,
          1,
          1,
          1,
          1,
          1,
          1,
          1,
          1,
          1,
          1,
          1,
          1,
          1,
          1,
          1,
          1,
          1,
          1,
          1,
          1,
          1,
          1,
          1,
          1,
          1,
          1,
          1,
          1,
          1,
          1,
          1,
          1,
          1,
          1,
          1,
          1,
          1,
          1,
          1,
          1,
          1,
          1,
          1,
          1,
          1,
          1,
          1,
          1,
          1,
          1,
          1,
          1,
          1,
          1,
          1,
          1,
          1,
          1,
          1,
          1,
          1,
          1,
          1,
          1,
          1,
          1,
          1,
          1,
          1,
          1,
          1,
          1,
          1,
          1,
          1,
          1,
          1,
          1,
          1,
          1,
          1,
          1,
          1,
          1,
          1,
          1,
          1,
          1,
          1,
          1,
          1,
          1,
          1,
          1,
          1,
          1,
          1,
          1,
          1,
          1,
          1,
          1,
          1,
          1,
          1,
          1,
          1,
          1,
          1,
          1,
          1,
          1,
          1,
          1,
          1,
          1,
          1,
          1,
          1,
          1,
          1,
          1,
          1
         ],
         "yaxis": "y"
        }
       ],
       "layout": {
        "barmode": "relative",
        "legend": {
         "tracegroupgap": 0
        },
        "template": {
         "data": {
          "bar": [
           {
            "error_x": {
             "color": "#2a3f5f"
            },
            "error_y": {
             "color": "#2a3f5f"
            },
            "marker": {
             "line": {
              "color": "#E5ECF6",
              "width": 0.5
             },
             "pattern": {
              "fillmode": "overlay",
              "size": 10,
              "solidity": 0.2
             }
            },
            "type": "bar"
           }
          ],
          "barpolar": [
           {
            "marker": {
             "line": {
              "color": "#E5ECF6",
              "width": 0.5
             },
             "pattern": {
              "fillmode": "overlay",
              "size": 10,
              "solidity": 0.2
             }
            },
            "type": "barpolar"
           }
          ],
          "carpet": [
           {
            "aaxis": {
             "endlinecolor": "#2a3f5f",
             "gridcolor": "white",
             "linecolor": "white",
             "minorgridcolor": "white",
             "startlinecolor": "#2a3f5f"
            },
            "baxis": {
             "endlinecolor": "#2a3f5f",
             "gridcolor": "white",
             "linecolor": "white",
             "minorgridcolor": "white",
             "startlinecolor": "#2a3f5f"
            },
            "type": "carpet"
           }
          ],
          "choropleth": [
           {
            "colorbar": {
             "outlinewidth": 0,
             "ticks": ""
            },
            "type": "choropleth"
           }
          ],
          "contour": [
           {
            "colorbar": {
             "outlinewidth": 0,
             "ticks": ""
            },
            "colorscale": [
             [
              0,
              "#0d0887"
             ],
             [
              0.1111111111111111,
              "#46039f"
             ],
             [
              0.2222222222222222,
              "#7201a8"
             ],
             [
              0.3333333333333333,
              "#9c179e"
             ],
             [
              0.4444444444444444,
              "#bd3786"
             ],
             [
              0.5555555555555556,
              "#d8576b"
             ],
             [
              0.6666666666666666,
              "#ed7953"
             ],
             [
              0.7777777777777778,
              "#fb9f3a"
             ],
             [
              0.8888888888888888,
              "#fdca26"
             ],
             [
              1,
              "#f0f921"
             ]
            ],
            "type": "contour"
           }
          ],
          "contourcarpet": [
           {
            "colorbar": {
             "outlinewidth": 0,
             "ticks": ""
            },
            "type": "contourcarpet"
           }
          ],
          "heatmap": [
           {
            "colorbar": {
             "outlinewidth": 0,
             "ticks": ""
            },
            "colorscale": [
             [
              0,
              "#0d0887"
             ],
             [
              0.1111111111111111,
              "#46039f"
             ],
             [
              0.2222222222222222,
              "#7201a8"
             ],
             [
              0.3333333333333333,
              "#9c179e"
             ],
             [
              0.4444444444444444,
              "#bd3786"
             ],
             [
              0.5555555555555556,
              "#d8576b"
             ],
             [
              0.6666666666666666,
              "#ed7953"
             ],
             [
              0.7777777777777778,
              "#fb9f3a"
             ],
             [
              0.8888888888888888,
              "#fdca26"
             ],
             [
              1,
              "#f0f921"
             ]
            ],
            "type": "heatmap"
           }
          ],
          "heatmapgl": [
           {
            "colorbar": {
             "outlinewidth": 0,
             "ticks": ""
            },
            "colorscale": [
             [
              0,
              "#0d0887"
             ],
             [
              0.1111111111111111,
              "#46039f"
             ],
             [
              0.2222222222222222,
              "#7201a8"
             ],
             [
              0.3333333333333333,
              "#9c179e"
             ],
             [
              0.4444444444444444,
              "#bd3786"
             ],
             [
              0.5555555555555556,
              "#d8576b"
             ],
             [
              0.6666666666666666,
              "#ed7953"
             ],
             [
              0.7777777777777778,
              "#fb9f3a"
             ],
             [
              0.8888888888888888,
              "#fdca26"
             ],
             [
              1,
              "#f0f921"
             ]
            ],
            "type": "heatmapgl"
           }
          ],
          "histogram": [
           {
            "marker": {
             "pattern": {
              "fillmode": "overlay",
              "size": 10,
              "solidity": 0.2
             }
            },
            "type": "histogram"
           }
          ],
          "histogram2d": [
           {
            "colorbar": {
             "outlinewidth": 0,
             "ticks": ""
            },
            "colorscale": [
             [
              0,
              "#0d0887"
             ],
             [
              0.1111111111111111,
              "#46039f"
             ],
             [
              0.2222222222222222,
              "#7201a8"
             ],
             [
              0.3333333333333333,
              "#9c179e"
             ],
             [
              0.4444444444444444,
              "#bd3786"
             ],
             [
              0.5555555555555556,
              "#d8576b"
             ],
             [
              0.6666666666666666,
              "#ed7953"
             ],
             [
              0.7777777777777778,
              "#fb9f3a"
             ],
             [
              0.8888888888888888,
              "#fdca26"
             ],
             [
              1,
              "#f0f921"
             ]
            ],
            "type": "histogram2d"
           }
          ],
          "histogram2dcontour": [
           {
            "colorbar": {
             "outlinewidth": 0,
             "ticks": ""
            },
            "colorscale": [
             [
              0,
              "#0d0887"
             ],
             [
              0.1111111111111111,
              "#46039f"
             ],
             [
              0.2222222222222222,
              "#7201a8"
             ],
             [
              0.3333333333333333,
              "#9c179e"
             ],
             [
              0.4444444444444444,
              "#bd3786"
             ],
             [
              0.5555555555555556,
              "#d8576b"
             ],
             [
              0.6666666666666666,
              "#ed7953"
             ],
             [
              0.7777777777777778,
              "#fb9f3a"
             ],
             [
              0.8888888888888888,
              "#fdca26"
             ],
             [
              1,
              "#f0f921"
             ]
            ],
            "type": "histogram2dcontour"
           }
          ],
          "mesh3d": [
           {
            "colorbar": {
             "outlinewidth": 0,
             "ticks": ""
            },
            "type": "mesh3d"
           }
          ],
          "parcoords": [
           {
            "line": {
             "colorbar": {
              "outlinewidth": 0,
              "ticks": ""
             }
            },
            "type": "parcoords"
           }
          ],
          "pie": [
           {
            "automargin": true,
            "type": "pie"
           }
          ],
          "scatter": [
           {
            "fillpattern": {
             "fillmode": "overlay",
             "size": 10,
             "solidity": 0.2
            },
            "type": "scatter"
           }
          ],
          "scatter3d": [
           {
            "line": {
             "colorbar": {
              "outlinewidth": 0,
              "ticks": ""
             }
            },
            "marker": {
             "colorbar": {
              "outlinewidth": 0,
              "ticks": ""
             }
            },
            "type": "scatter3d"
           }
          ],
          "scattercarpet": [
           {
            "marker": {
             "colorbar": {
              "outlinewidth": 0,
              "ticks": ""
             }
            },
            "type": "scattercarpet"
           }
          ],
          "scattergeo": [
           {
            "marker": {
             "colorbar": {
              "outlinewidth": 0,
              "ticks": ""
             }
            },
            "type": "scattergeo"
           }
          ],
          "scattergl": [
           {
            "marker": {
             "colorbar": {
              "outlinewidth": 0,
              "ticks": ""
             }
            },
            "type": "scattergl"
           }
          ],
          "scattermapbox": [
           {
            "marker": {
             "colorbar": {
              "outlinewidth": 0,
              "ticks": ""
             }
            },
            "type": "scattermapbox"
           }
          ],
          "scatterpolar": [
           {
            "marker": {
             "colorbar": {
              "outlinewidth": 0,
              "ticks": ""
             }
            },
            "type": "scatterpolar"
           }
          ],
          "scatterpolargl": [
           {
            "marker": {
             "colorbar": {
              "outlinewidth": 0,
              "ticks": ""
             }
            },
            "type": "scatterpolargl"
           }
          ],
          "scatterternary": [
           {
            "marker": {
             "colorbar": {
              "outlinewidth": 0,
              "ticks": ""
             }
            },
            "type": "scatterternary"
           }
          ],
          "surface": [
           {
            "colorbar": {
             "outlinewidth": 0,
             "ticks": ""
            },
            "colorscale": [
             [
              0,
              "#0d0887"
             ],
             [
              0.1111111111111111,
              "#46039f"
             ],
             [
              0.2222222222222222,
              "#7201a8"
             ],
             [
              0.3333333333333333,
              "#9c179e"
             ],
             [
              0.4444444444444444,
              "#bd3786"
             ],
             [
              0.5555555555555556,
              "#d8576b"
             ],
             [
              0.6666666666666666,
              "#ed7953"
             ],
             [
              0.7777777777777778,
              "#fb9f3a"
             ],
             [
              0.8888888888888888,
              "#fdca26"
             ],
             [
              1,
              "#f0f921"
             ]
            ],
            "type": "surface"
           }
          ],
          "table": [
           {
            "cells": {
             "fill": {
              "color": "#EBF0F8"
             },
             "line": {
              "color": "white"
             }
            },
            "header": {
             "fill": {
              "color": "#C8D4E3"
             },
             "line": {
              "color": "white"
             }
            },
            "type": "table"
           }
          ]
         },
         "layout": {
          "annotationdefaults": {
           "arrowcolor": "#2a3f5f",
           "arrowhead": 0,
           "arrowwidth": 1
          },
          "autotypenumbers": "strict",
          "coloraxis": {
           "colorbar": {
            "outlinewidth": 0,
            "ticks": ""
           }
          },
          "colorscale": {
           "diverging": [
            [
             0,
             "#8e0152"
            ],
            [
             0.1,
             "#c51b7d"
            ],
            [
             0.2,
             "#de77ae"
            ],
            [
             0.3,
             "#f1b6da"
            ],
            [
             0.4,
             "#fde0ef"
            ],
            [
             0.5,
             "#f7f7f7"
            ],
            [
             0.6,
             "#e6f5d0"
            ],
            [
             0.7,
             "#b8e186"
            ],
            [
             0.8,
             "#7fbc41"
            ],
            [
             0.9,
             "#4d9221"
            ],
            [
             1,
             "#276419"
            ]
           ],
           "sequential": [
            [
             0,
             "#0d0887"
            ],
            [
             0.1111111111111111,
             "#46039f"
            ],
            [
             0.2222222222222222,
             "#7201a8"
            ],
            [
             0.3333333333333333,
             "#9c179e"
            ],
            [
             0.4444444444444444,
             "#bd3786"
            ],
            [
             0.5555555555555556,
             "#d8576b"
            ],
            [
             0.6666666666666666,
             "#ed7953"
            ],
            [
             0.7777777777777778,
             "#fb9f3a"
            ],
            [
             0.8888888888888888,
             "#fdca26"
            ],
            [
             1,
             "#f0f921"
            ]
           ],
           "sequentialminus": [
            [
             0,
             "#0d0887"
            ],
            [
             0.1111111111111111,
             "#46039f"
            ],
            [
             0.2222222222222222,
             "#7201a8"
            ],
            [
             0.3333333333333333,
             "#9c179e"
            ],
            [
             0.4444444444444444,
             "#bd3786"
            ],
            [
             0.5555555555555556,
             "#d8576b"
            ],
            [
             0.6666666666666666,
             "#ed7953"
            ],
            [
             0.7777777777777778,
             "#fb9f3a"
            ],
            [
             0.8888888888888888,
             "#fdca26"
            ],
            [
             1,
             "#f0f921"
            ]
           ]
          },
          "colorway": [
           "#636efa",
           "#EF553B",
           "#00cc96",
           "#ab63fa",
           "#FFA15A",
           "#19d3f3",
           "#FF6692",
           "#B6E880",
           "#FF97FF",
           "#FECB52"
          ],
          "font": {
           "color": "#2a3f5f"
          },
          "geo": {
           "bgcolor": "white",
           "lakecolor": "white",
           "landcolor": "#E5ECF6",
           "showlakes": true,
           "showland": true,
           "subunitcolor": "white"
          },
          "hoverlabel": {
           "align": "left"
          },
          "hovermode": "closest",
          "mapbox": {
           "style": "light"
          },
          "paper_bgcolor": "white",
          "plot_bgcolor": "#E5ECF6",
          "polar": {
           "angularaxis": {
            "gridcolor": "white",
            "linecolor": "white",
            "ticks": ""
           },
           "bgcolor": "#E5ECF6",
           "radialaxis": {
            "gridcolor": "white",
            "linecolor": "white",
            "ticks": ""
           }
          },
          "scene": {
           "xaxis": {
            "backgroundcolor": "#E5ECF6",
            "gridcolor": "white",
            "gridwidth": 2,
            "linecolor": "white",
            "showbackground": true,
            "ticks": "",
            "zerolinecolor": "white"
           },
           "yaxis": {
            "backgroundcolor": "#E5ECF6",
            "gridcolor": "white",
            "gridwidth": 2,
            "linecolor": "white",
            "showbackground": true,
            "ticks": "",
            "zerolinecolor": "white"
           },
           "zaxis": {
            "backgroundcolor": "#E5ECF6",
            "gridcolor": "white",
            "gridwidth": 2,
            "linecolor": "white",
            "showbackground": true,
            "ticks": "",
            "zerolinecolor": "white"
           }
          },
          "shapedefaults": {
           "line": {
            "color": "#2a3f5f"
           }
          },
          "ternary": {
           "aaxis": {
            "gridcolor": "white",
            "linecolor": "white",
            "ticks": ""
           },
           "baxis": {
            "gridcolor": "white",
            "linecolor": "white",
            "ticks": ""
           },
           "bgcolor": "#E5ECF6",
           "caxis": {
            "gridcolor": "white",
            "linecolor": "white",
            "ticks": ""
           }
          },
          "title": {
           "x": 0.05
          },
          "xaxis": {
           "automargin": true,
           "gridcolor": "white",
           "linecolor": "white",
           "ticks": "",
           "title": {
            "standoff": 15
           },
           "zerolinecolor": "white",
           "zerolinewidth": 2
          },
          "yaxis": {
           "automargin": true,
           "gridcolor": "white",
           "linecolor": "white",
           "ticks": "",
           "title": {
            "standoff": 15
           },
           "zerolinecolor": "white",
           "zerolinewidth": 2
          }
         }
        },
        "title": {
         "text": "Histogram of Investments under $1M (All)"
        },
        "xaxis": {
         "anchor": "y",
         "domain": [
          0,
          1
         ],
         "title": {
          "text": "Investment Size (per shark)"
         }
        },
        "yaxis": {
         "anchor": "x",
         "domain": [
          0,
          1
         ],
         "title": {
          "text": "sum of count"
         }
        }
       }
      },
      "text/html": [
       "<div>                            <div id=\"42975e22-a725-48c8-b6f9-468df0e7bd47\" class=\"plotly-graph-div\" style=\"height:525px; width:100%;\"></div>            <script type=\"text/javascript\">                require([\"plotly\"], function(Plotly) {                    window.PLOTLYENV=window.PLOTLYENV || {};                                    if (document.getElementById(\"42975e22-a725-48c8-b6f9-468df0e7bd47\")) {                    Plotly.newPlot(                        \"42975e22-a725-48c8-b6f9-468df0e7bd47\",                        [{\"alignmentgroup\":\"True\",\"bingroup\":\"x\",\"histfunc\":\"sum\",\"hovertemplate\":\"value_k=%{x}<br>sum of count=%{y}<extra></extra>\",\"legendgroup\":\"\",\"marker\":{\"color\":\"#636efa\",\"pattern\":{\"shape\":\"\"}},\"name\":\"\",\"offsetgroup\":\"\",\"orientation\":\"v\",\"showlegend\":false,\"x\":[250.0,125.0,100.0,50.0,250.0,100.0,100.0,500.0,75.0,40.0,150.0,40.0,300.0,100.0,35.0,50.0,250.0,54.0,70.0,125.0,300.0,50.0,125.00000000000003,300.0,50.0,150.0,275.0,200.0,50.0,300.0,500.0,75.0,100.0,77.77777777777779,20.0,325.0,75.0,60.0,75.0,100.0,50.0,250.0,100.0,250.0,50.0,200.0,150.0,50.0,250.0,500.0,250.0,300.0,150.0,60.0,112.5,125.0,100.0,17.5,100.0,150.0,200.0,200.0,25.0,50.0,350.0,90.0,50.0,50.0,125.0,20.0,50.0,50.0,50.0,50.0,75.0,250.0,50.0,83.33333333333334,55.0,150.0,150.0,300.0,25.0,300.0,125.0,37.5,175.0,37.5,75.0,200.0,12.5,100.0,150.0,300.0,70.0,100.0,50.0,50.0,100.0,200.0,200.0,50.0,300.0,300.0,250.0,50.0,125.0,150.0,250.0,250.0,50.0,20.0,175.0,50.0,83.33333333333334,75.0,150.0,150.0,125.0,300.0,125.00000000000003,300.0,75.0,100.0,150.0,300.0,75.0,375.0,600.0,125.0,75.0,110.0,60.0,750.0,200.00000000000003,100.0,83.33333333333333,100.0,275.0,75.0,200.0,66.66666666666666,200.0,100.0,250.0,150.0,125.0,166.66666666666666,300.0,200.0,50.0,200.0,500.0,100.0,250.0,250.0,35.0,150.0,100.0,75.0,125.00000000000003,200.0,75.0,75.0,100.0,75.0,62.5,35.0,400.0,75.0,22.222222222222225,200.00000000000003,83.33333333333333,225.0,300.0,75.0,80.0,100.0,500.0,50.0,300.0,500.0,200.0,300.0,500.0,75.0,150.0,250.0,80.0,250.0,200.0,600.0,125.0,150.0,270.0,166.66666666666666,120.0,300.0,200.0,60.0,75.0,100.0,100.0,250.0,60.0,75.0,25.0,100.0,200.0,40.0,150.0,300.0,50.0,250.0,83.33333333333334,300.0,100.0,150.0,225.0,50.0,125.0,100.0,80.0,75.0,150.0,75.0,300.0,125.0,500.0000000000001,37.5,75.0,250.0,200.0,50.0,250.0,100.0,75.0,250.0,350.0,250.0,150.0,500.0,600.0,600.0,75.0,500.0,12.5,200.0,150.0,325.0,500.0,200.00000000000003,80.0,300.0,300.0,100.0,75.0,75.0,250.0,100.0,100.0,70.0,100.0,150.0,100.0,300.0,150.0,500.0,100.0,500.0,66.66666666666666,100.0,75.0,75.0,120.0,100.0,75.0,200.0,300.0,100.0,100.0,125.0,250.0,50.0,200.0,50.0,50.0,112.5,550.0,50.0,40.0,550.0,100.0,250.0,600.0,250.0,250.0,100.0,450.0,180.0,150.0,500.0,150.0,300.0,600.0,50.0,300.0,150.0,500.0,75.0,150.0,50.0,75.0,50.0,75.0,40.0,150.0,225.0,300.0,200.0,300.0,75.0,125.00000000000003,300.0,120.0,400.0,55.0,125.0,60.0,250.0,200.0,200.0,37.5,62.5,500.0,150.0,350.0,125.0,75.0,275.0,75.0,300.0,75.0,20.0,100.0,125.0,75.0,83.33333333333333,300.0,100.0,150.0,500.0,100.0,75.0,75.0,500.0,66.66666666666666,75.0,100.0,75.0,50.0,75.0,120.0,100.0,50.0,350.0,50.0,350.0,75.0,50.0,50.0,166.66666666666666,150.0,800.0,17.5,125.0,500.0,150.0,60.0,60.0,125.0,400.0,150.0,150.0,200.0,300.0,75.0,240.0],\"xaxis\":\"x\",\"y\":[1,1,1,1,1,1,1,1,1,1,1,1,1,1,1,1,1,1,1,1,1,1,1,1,1,1,1,1,1,1,1,1,1,1,1,1,1,1,1,1,1,1,1,1,1,1,1,1,1,1,1,1,1,1,1,1,1,1,1,1,1,1,1,1,1,1,1,1,1,1,1,1,1,1,1,1,1,1,1,1,1,1,1,1,1,1,1,1,1,1,1,1,1,1,1,1,1,1,1,1,1,1,1,1,1,1,1,1,1,1,1,1,1,1,1,1,1,1,1,1,1,1,1,1,1,1,1,1,1,1,1,1,1,1,1,1,1,1,1,1,1,1,1,1,1,1,1,1,1,1,1,1,1,1,1,1,1,1,1,1,1,1,1,1,1,1,1,1,1,1,1,1,1,1,1,1,1,1,1,1,1,1,1,1,1,1,1,1,1,1,1,1,1,1,1,1,1,1,1,1,1,1,1,1,1,1,1,1,1,1,1,1,1,1,1,1,1,1,1,1,1,1,1,1,1,1,1,1,1,1,1,1,1,1,1,1,1,1,1,1,1,1,1,1,1,1,1,1,1,1,1,1,1,1,1,1,1,1,1,1,1,1,1,1,1,1,1,1,1,1,1,1,1,1,1,1,1,1,1,1,1,1,1,1,1,1,1,1,1,1,1,1,1,1,1,1,1,1,1,1,1,1,1,1,1,1,1,1,1,1,1,1,1,1,1,1,1,1,1,1,1,1,1,1,1,1,1,1,1,1,1,1,1,1,1,1,1,1,1,1,1,1,1,1,1,1,1,1,1,1,1,1,1,1,1,1,1,1,1,1,1,1,1,1,1,1,1,1,1,1,1,1,1,1,1,1,1,1,1,1,1,1,1,1,1,1,1,1],\"yaxis\":\"y\",\"type\":\"histogram\"}],                        {\"template\":{\"data\":{\"histogram2dcontour\":[{\"type\":\"histogram2dcontour\",\"colorbar\":{\"outlinewidth\":0,\"ticks\":\"\"},\"colorscale\":[[0.0,\"#0d0887\"],[0.1111111111111111,\"#46039f\"],[0.2222222222222222,\"#7201a8\"],[0.3333333333333333,\"#9c179e\"],[0.4444444444444444,\"#bd3786\"],[0.5555555555555556,\"#d8576b\"],[0.6666666666666666,\"#ed7953\"],[0.7777777777777778,\"#fb9f3a\"],[0.8888888888888888,\"#fdca26\"],[1.0,\"#f0f921\"]]}],\"choropleth\":[{\"type\":\"choropleth\",\"colorbar\":{\"outlinewidth\":0,\"ticks\":\"\"}}],\"histogram2d\":[{\"type\":\"histogram2d\",\"colorbar\":{\"outlinewidth\":0,\"ticks\":\"\"},\"colorscale\":[[0.0,\"#0d0887\"],[0.1111111111111111,\"#46039f\"],[0.2222222222222222,\"#7201a8\"],[0.3333333333333333,\"#9c179e\"],[0.4444444444444444,\"#bd3786\"],[0.5555555555555556,\"#d8576b\"],[0.6666666666666666,\"#ed7953\"],[0.7777777777777778,\"#fb9f3a\"],[0.8888888888888888,\"#fdca26\"],[1.0,\"#f0f921\"]]}],\"heatmap\":[{\"type\":\"heatmap\",\"colorbar\":{\"outlinewidth\":0,\"ticks\":\"\"},\"colorscale\":[[0.0,\"#0d0887\"],[0.1111111111111111,\"#46039f\"],[0.2222222222222222,\"#7201a8\"],[0.3333333333333333,\"#9c179e\"],[0.4444444444444444,\"#bd3786\"],[0.5555555555555556,\"#d8576b\"],[0.6666666666666666,\"#ed7953\"],[0.7777777777777778,\"#fb9f3a\"],[0.8888888888888888,\"#fdca26\"],[1.0,\"#f0f921\"]]}],\"heatmapgl\":[{\"type\":\"heatmapgl\",\"colorbar\":{\"outlinewidth\":0,\"ticks\":\"\"},\"colorscale\":[[0.0,\"#0d0887\"],[0.1111111111111111,\"#46039f\"],[0.2222222222222222,\"#7201a8\"],[0.3333333333333333,\"#9c179e\"],[0.4444444444444444,\"#bd3786\"],[0.5555555555555556,\"#d8576b\"],[0.6666666666666666,\"#ed7953\"],[0.7777777777777778,\"#fb9f3a\"],[0.8888888888888888,\"#fdca26\"],[1.0,\"#f0f921\"]]}],\"contourcarpet\":[{\"type\":\"contourcarpet\",\"colorbar\":{\"outlinewidth\":0,\"ticks\":\"\"}}],\"contour\":[{\"type\":\"contour\",\"colorbar\":{\"outlinewidth\":0,\"ticks\":\"\"},\"colorscale\":[[0.0,\"#0d0887\"],[0.1111111111111111,\"#46039f\"],[0.2222222222222222,\"#7201a8\"],[0.3333333333333333,\"#9c179e\"],[0.4444444444444444,\"#bd3786\"],[0.5555555555555556,\"#d8576b\"],[0.6666666666666666,\"#ed7953\"],[0.7777777777777778,\"#fb9f3a\"],[0.8888888888888888,\"#fdca26\"],[1.0,\"#f0f921\"]]}],\"surface\":[{\"type\":\"surface\",\"colorbar\":{\"outlinewidth\":0,\"ticks\":\"\"},\"colorscale\":[[0.0,\"#0d0887\"],[0.1111111111111111,\"#46039f\"],[0.2222222222222222,\"#7201a8\"],[0.3333333333333333,\"#9c179e\"],[0.4444444444444444,\"#bd3786\"],[0.5555555555555556,\"#d8576b\"],[0.6666666666666666,\"#ed7953\"],[0.7777777777777778,\"#fb9f3a\"],[0.8888888888888888,\"#fdca26\"],[1.0,\"#f0f921\"]]}],\"mesh3d\":[{\"type\":\"mesh3d\",\"colorbar\":{\"outlinewidth\":0,\"ticks\":\"\"}}],\"scatter\":[{\"fillpattern\":{\"fillmode\":\"overlay\",\"size\":10,\"solidity\":0.2},\"type\":\"scatter\"}],\"parcoords\":[{\"type\":\"parcoords\",\"line\":{\"colorbar\":{\"outlinewidth\":0,\"ticks\":\"\"}}}],\"scatterpolargl\":[{\"type\":\"scatterpolargl\",\"marker\":{\"colorbar\":{\"outlinewidth\":0,\"ticks\":\"\"}}}],\"bar\":[{\"error_x\":{\"color\":\"#2a3f5f\"},\"error_y\":{\"color\":\"#2a3f5f\"},\"marker\":{\"line\":{\"color\":\"#E5ECF6\",\"width\":0.5},\"pattern\":{\"fillmode\":\"overlay\",\"size\":10,\"solidity\":0.2}},\"type\":\"bar\"}],\"scattergeo\":[{\"type\":\"scattergeo\",\"marker\":{\"colorbar\":{\"outlinewidth\":0,\"ticks\":\"\"}}}],\"scatterpolar\":[{\"type\":\"scatterpolar\",\"marker\":{\"colorbar\":{\"outlinewidth\":0,\"ticks\":\"\"}}}],\"histogram\":[{\"marker\":{\"pattern\":{\"fillmode\":\"overlay\",\"size\":10,\"solidity\":0.2}},\"type\":\"histogram\"}],\"scattergl\":[{\"type\":\"scattergl\",\"marker\":{\"colorbar\":{\"outlinewidth\":0,\"ticks\":\"\"}}}],\"scatter3d\":[{\"type\":\"scatter3d\",\"line\":{\"colorbar\":{\"outlinewidth\":0,\"ticks\":\"\"}},\"marker\":{\"colorbar\":{\"outlinewidth\":0,\"ticks\":\"\"}}}],\"scattermapbox\":[{\"type\":\"scattermapbox\",\"marker\":{\"colorbar\":{\"outlinewidth\":0,\"ticks\":\"\"}}}],\"scatterternary\":[{\"type\":\"scatterternary\",\"marker\":{\"colorbar\":{\"outlinewidth\":0,\"ticks\":\"\"}}}],\"scattercarpet\":[{\"type\":\"scattercarpet\",\"marker\":{\"colorbar\":{\"outlinewidth\":0,\"ticks\":\"\"}}}],\"carpet\":[{\"aaxis\":{\"endlinecolor\":\"#2a3f5f\",\"gridcolor\":\"white\",\"linecolor\":\"white\",\"minorgridcolor\":\"white\",\"startlinecolor\":\"#2a3f5f\"},\"baxis\":{\"endlinecolor\":\"#2a3f5f\",\"gridcolor\":\"white\",\"linecolor\":\"white\",\"minorgridcolor\":\"white\",\"startlinecolor\":\"#2a3f5f\"},\"type\":\"carpet\"}],\"table\":[{\"cells\":{\"fill\":{\"color\":\"#EBF0F8\"},\"line\":{\"color\":\"white\"}},\"header\":{\"fill\":{\"color\":\"#C8D4E3\"},\"line\":{\"color\":\"white\"}},\"type\":\"table\"}],\"barpolar\":[{\"marker\":{\"line\":{\"color\":\"#E5ECF6\",\"width\":0.5},\"pattern\":{\"fillmode\":\"overlay\",\"size\":10,\"solidity\":0.2}},\"type\":\"barpolar\"}],\"pie\":[{\"automargin\":true,\"type\":\"pie\"}]},\"layout\":{\"autotypenumbers\":\"strict\",\"colorway\":[\"#636efa\",\"#EF553B\",\"#00cc96\",\"#ab63fa\",\"#FFA15A\",\"#19d3f3\",\"#FF6692\",\"#B6E880\",\"#FF97FF\",\"#FECB52\"],\"font\":{\"color\":\"#2a3f5f\"},\"hovermode\":\"closest\",\"hoverlabel\":{\"align\":\"left\"},\"paper_bgcolor\":\"white\",\"plot_bgcolor\":\"#E5ECF6\",\"polar\":{\"bgcolor\":\"#E5ECF6\",\"angularaxis\":{\"gridcolor\":\"white\",\"linecolor\":\"white\",\"ticks\":\"\"},\"radialaxis\":{\"gridcolor\":\"white\",\"linecolor\":\"white\",\"ticks\":\"\"}},\"ternary\":{\"bgcolor\":\"#E5ECF6\",\"aaxis\":{\"gridcolor\":\"white\",\"linecolor\":\"white\",\"ticks\":\"\"},\"baxis\":{\"gridcolor\":\"white\",\"linecolor\":\"white\",\"ticks\":\"\"},\"caxis\":{\"gridcolor\":\"white\",\"linecolor\":\"white\",\"ticks\":\"\"}},\"coloraxis\":{\"colorbar\":{\"outlinewidth\":0,\"ticks\":\"\"}},\"colorscale\":{\"sequential\":[[0.0,\"#0d0887\"],[0.1111111111111111,\"#46039f\"],[0.2222222222222222,\"#7201a8\"],[0.3333333333333333,\"#9c179e\"],[0.4444444444444444,\"#bd3786\"],[0.5555555555555556,\"#d8576b\"],[0.6666666666666666,\"#ed7953\"],[0.7777777777777778,\"#fb9f3a\"],[0.8888888888888888,\"#fdca26\"],[1.0,\"#f0f921\"]],\"sequentialminus\":[[0.0,\"#0d0887\"],[0.1111111111111111,\"#46039f\"],[0.2222222222222222,\"#7201a8\"],[0.3333333333333333,\"#9c179e\"],[0.4444444444444444,\"#bd3786\"],[0.5555555555555556,\"#d8576b\"],[0.6666666666666666,\"#ed7953\"],[0.7777777777777778,\"#fb9f3a\"],[0.8888888888888888,\"#fdca26\"],[1.0,\"#f0f921\"]],\"diverging\":[[0,\"#8e0152\"],[0.1,\"#c51b7d\"],[0.2,\"#de77ae\"],[0.3,\"#f1b6da\"],[0.4,\"#fde0ef\"],[0.5,\"#f7f7f7\"],[0.6,\"#e6f5d0\"],[0.7,\"#b8e186\"],[0.8,\"#7fbc41\"],[0.9,\"#4d9221\"],[1,\"#276419\"]]},\"xaxis\":{\"gridcolor\":\"white\",\"linecolor\":\"white\",\"ticks\":\"\",\"title\":{\"standoff\":15},\"zerolinecolor\":\"white\",\"automargin\":true,\"zerolinewidth\":2},\"yaxis\":{\"gridcolor\":\"white\",\"linecolor\":\"white\",\"ticks\":\"\",\"title\":{\"standoff\":15},\"zerolinecolor\":\"white\",\"automargin\":true,\"zerolinewidth\":2},\"scene\":{\"xaxis\":{\"backgroundcolor\":\"#E5ECF6\",\"gridcolor\":\"white\",\"linecolor\":\"white\",\"showbackground\":true,\"ticks\":\"\",\"zerolinecolor\":\"white\",\"gridwidth\":2},\"yaxis\":{\"backgroundcolor\":\"#E5ECF6\",\"gridcolor\":\"white\",\"linecolor\":\"white\",\"showbackground\":true,\"ticks\":\"\",\"zerolinecolor\":\"white\",\"gridwidth\":2},\"zaxis\":{\"backgroundcolor\":\"#E5ECF6\",\"gridcolor\":\"white\",\"linecolor\":\"white\",\"showbackground\":true,\"ticks\":\"\",\"zerolinecolor\":\"white\",\"gridwidth\":2}},\"shapedefaults\":{\"line\":{\"color\":\"#2a3f5f\"}},\"annotationdefaults\":{\"arrowcolor\":\"#2a3f5f\",\"arrowhead\":0,\"arrowwidth\":1},\"geo\":{\"bgcolor\":\"white\",\"landcolor\":\"#E5ECF6\",\"subunitcolor\":\"white\",\"showland\":true,\"showlakes\":true,\"lakecolor\":\"white\"},\"title\":{\"x\":0.05},\"mapbox\":{\"style\":\"light\"}}},\"xaxis\":{\"anchor\":\"y\",\"domain\":[0.0,1.0],\"title\":{\"text\":\"Investment Size (per shark)\"}},\"yaxis\":{\"anchor\":\"x\",\"domain\":[0.0,1.0],\"title\":{\"text\":\"sum of count\"}},\"legend\":{\"tracegroupgap\":0},\"title\":{\"text\":\"Histogram of Investments under $1M (All)\"},\"barmode\":\"relative\"},                        {\"responsive\": true}                    ).then(function(){\n",
       "                            \n",
       "var gd = document.getElementById('42975e22-a725-48c8-b6f9-468df0e7bd47');\n",
       "var x = new MutationObserver(function (mutations, observer) {{\n",
       "        var display = window.getComputedStyle(gd).display;\n",
       "        if (!display || display === 'none') {{\n",
       "            console.log([gd, 'removed!']);\n",
       "            Plotly.purge(gd);\n",
       "            observer.disconnect();\n",
       "        }}\n",
       "}});\n",
       "\n",
       "// Listen for the removal of the full notebook cells\n",
       "var notebookContainer = gd.closest('#notebook-container');\n",
       "if (notebookContainer) {{\n",
       "    x.observe(notebookContainer, {childList: true});\n",
       "}}\n",
       "\n",
       "// Listen for the clearing of the current output cell\n",
       "var outputEl = gd.closest('.output');\n",
       "if (outputEl) {{\n",
       "    x.observe(outputEl, {childList: true});\n",
       "}}\n",
       "\n",
       "                        })                };                });            </script>        </div>"
      ]
     },
     "metadata": {},
     "output_type": "display_data"
    }
   ],
   "source": [
    "# Histogram of all investments under $1M\n",
    "under1m_df = industry_df[industry_df['value'] < 1000000]\n",
    "\n",
    "px.histogram(under1m_df, \n",
    "                   x=\"value_k\", \n",
    "                   y=\"count\", \n",
    "                   title = \"Histogram of Investments under $1M (\"+industry_selected+\")\"\n",
    "            ).update_layout(xaxis_title = \"Investment Size (per shark)\"\n",
    "            ).show()"
   ]
  },
  {
   "cell_type": "code",
   "execution_count": 66,
   "id": "79adcde3",
   "metadata": {},
   "outputs": [
    {
     "data": {
      "application/vnd.plotly.v1+json": {
       "config": {
        "plotlyServerURL": "https://plot.ly"
       },
       "data": [
        {
         "alignmentgroup": "True",
         "bingroup": "x",
         "histfunc": "sum",
         "hovertemplate": "investment_type=Buyout<br>value_k=%{x}<br>sum of count=%{y}<extra></extra>",
         "legendgroup": "Buyout",
         "marker": {
          "color": "#636efa",
          "pattern": {
           "shape": ""
          }
         },
         "name": "Buyout",
         "offsetgroup": "Buyout",
         "orientation": "v",
         "showlegend": true,
         "type": "histogram",
         "x": [
          250,
          100,
          40,
          150,
          300,
          100,
          70,
          50,
          50,
          75,
          100,
          200,
          250,
          200,
          35,
          225,
          50,
          200,
          300,
          75,
          50,
          50
         ],
         "xaxis": "x",
         "y": [
          1,
          1,
          1,
          1,
          1,
          1,
          1,
          1,
          1,
          1,
          1,
          1,
          1,
          1,
          1,
          1,
          1,
          1,
          1,
          1,
          1,
          1
         ],
         "yaxis": "y"
        },
        {
         "alignmentgroup": "True",
         "bingroup": "x",
         "histfunc": "sum",
         "hovertemplate": "investment_type=Equity<br>value_k=%{x}<br>sum of count=%{y}<extra></extra>",
         "legendgroup": "Equity",
         "marker": {
          "color": "#EF553B",
          "pattern": {
           "shape": ""
          }
         },
         "name": "Equity",
         "offsetgroup": "Equity",
         "orientation": "v",
         "showlegend": true,
         "type": "histogram",
         "x": [
          125,
          100,
          50,
          250,
          100,
          500,
          75,
          40,
          35,
          50,
          250,
          54,
          125,
          300,
          50,
          125.00000000000003,
          300,
          50,
          150,
          275,
          200,
          50,
          300,
          500,
          75,
          100,
          77.77777777777779,
          20,
          75,
          60,
          50,
          250,
          100,
          50,
          200,
          150,
          50,
          250,
          300,
          150,
          60,
          112.5,
          125,
          100,
          17.5,
          100,
          150,
          200,
          25,
          350,
          90,
          50,
          125,
          20,
          50,
          50,
          50,
          50,
          250,
          50,
          83.33333333333334,
          55,
          150,
          150,
          25,
          300,
          125,
          37.5,
          12.5,
          100,
          300,
          70,
          50,
          50,
          200,
          300,
          50,
          250,
          50,
          20,
          175,
          50,
          83.33333333333334,
          75,
          150,
          150,
          125,
          300,
          125.00000000000003,
          300,
          75,
          100,
          300,
          75,
          375,
          600,
          125,
          75,
          110,
          60,
          750,
          200.00000000000003,
          100,
          83.33333333333333,
          100,
          275,
          75,
          200,
          66.66666666666666,
          200,
          100,
          250,
          150,
          125,
          166.66666666666666,
          300,
          200,
          50,
          200,
          500,
          100,
          250,
          250,
          35,
          150,
          125.00000000000003,
          75,
          100,
          75,
          62.5,
          75,
          22.222222222222225,
          200.00000000000003,
          83.33333333333333,
          300,
          75,
          80,
          100,
          200,
          300,
          75,
          250,
          600,
          125,
          150,
          166.66666666666666,
          120,
          300,
          200,
          60,
          75,
          100,
          100,
          250,
          60,
          75,
          25,
          100,
          200,
          40,
          150,
          300,
          50,
          250,
          83.33333333333334,
          300,
          100,
          150,
          225,
          50,
          125,
          100,
          80,
          75,
          150,
          75,
          300,
          125,
          500.0000000000001,
          37.5,
          250,
          200,
          50,
          250,
          100,
          75,
          350,
          250,
          150,
          500,
          600,
          600,
          75,
          500,
          12.5,
          200,
          150,
          200.00000000000003,
          80,
          300,
          300,
          100,
          75,
          75,
          250,
          100,
          70,
          100,
          150,
          100,
          300,
          150,
          100,
          500,
          66.66666666666666,
          100,
          75,
          120,
          100,
          75,
          200,
          100,
          100,
          125,
          250,
          50,
          200,
          50,
          112.5,
          550,
          50,
          40,
          550,
          100,
          250,
          600,
          250,
          100,
          450,
          180,
          150,
          150,
          300,
          600,
          50,
          300,
          150,
          500,
          75,
          50,
          75,
          50,
          75,
          40,
          150,
          225,
          300,
          300,
          75,
          125.00000000000003,
          120,
          400,
          55,
          60,
          250,
          200,
          200,
          62.5,
          500,
          150,
          350,
          125,
          75,
          275,
          75,
          300,
          75,
          20,
          100,
          125,
          75,
          83.33333333333333,
          100,
          150,
          75,
          75,
          500,
          66.66666666666666,
          75,
          100,
          120,
          100,
          50,
          350,
          75,
          50,
          166.66666666666666,
          150,
          17.5,
          125,
          150,
          60,
          60,
          400,
          150,
          150,
          200,
          300,
          75,
          240
         ],
         "xaxis": "x",
         "y": [
          1,
          1,
          1,
          1,
          1,
          1,
          1,
          1,
          1,
          1,
          1,
          1,
          1,
          1,
          1,
          1,
          1,
          1,
          1,
          1,
          1,
          1,
          1,
          1,
          1,
          1,
          1,
          1,
          1,
          1,
          1,
          1,
          1,
          1,
          1,
          1,
          1,
          1,
          1,
          1,
          1,
          1,
          1,
          1,
          1,
          1,
          1,
          1,
          1,
          1,
          1,
          1,
          1,
          1,
          1,
          1,
          1,
          1,
          1,
          1,
          1,
          1,
          1,
          1,
          1,
          1,
          1,
          1,
          1,
          1,
          1,
          1,
          1,
          1,
          1,
          1,
          1,
          1,
          1,
          1,
          1,
          1,
          1,
          1,
          1,
          1,
          1,
          1,
          1,
          1,
          1,
          1,
          1,
          1,
          1,
          1,
          1,
          1,
          1,
          1,
          1,
          1,
          1,
          1,
          1,
          1,
          1,
          1,
          1,
          1,
          1,
          1,
          1,
          1,
          1,
          1,
          1,
          1,
          1,
          1,
          1,
          1,
          1,
          1,
          1,
          1,
          1,
          1,
          1,
          1,
          1,
          1,
          1,
          1,
          1,
          1,
          1,
          1,
          1,
          1,
          1,
          1,
          1,
          1,
          1,
          1,
          1,
          1,
          1,
          1,
          1,
          1,
          1,
          1,
          1,
          1,
          1,
          1,
          1,
          1,
          1,
          1,
          1,
          1,
          1,
          1,
          1,
          1,
          1,
          1,
          1,
          1,
          1,
          1,
          1,
          1,
          1,
          1,
          1,
          1,
          1,
          1,
          1,
          1,
          1,
          1,
          1,
          1,
          1,
          1,
          1,
          1,
          1,
          1,
          1,
          1,
          1,
          1,
          1,
          1,
          1,
          1,
          1,
          1,
          1,
          1,
          1,
          1,
          1,
          1,
          1,
          1,
          1,
          1,
          1,
          1,
          1,
          1,
          1,
          1,
          1,
          1,
          1,
          1,
          1,
          1,
          1,
          1,
          1,
          1,
          1,
          1,
          1,
          1,
          1,
          1,
          1,
          1,
          1,
          1,
          1,
          1,
          1,
          1,
          1,
          1,
          1,
          1,
          1,
          1,
          1,
          1,
          1,
          1,
          1,
          1,
          1,
          1,
          1,
          1,
          1,
          1,
          1,
          1,
          1,
          1,
          1,
          1,
          1,
          1,
          1,
          1,
          1,
          1,
          1,
          1,
          1,
          1,
          1,
          1,
          1,
          1,
          1,
          1,
          1,
          1,
          1,
          1,
          1,
          1,
          1,
          1,
          1,
          1,
          1,
          1,
          1,
          1,
          1,
          1,
          1,
          1,
          1,
          1,
          1,
          1,
          1,
          1,
          1,
          1
         ],
         "yaxis": "y"
        },
        {
         "alignmentgroup": "True",
         "bingroup": "x",
         "histfunc": "sum",
         "hovertemplate": "investment_type=Equity + commission<br>value_k=%{x}<br>sum of count=%{y}<extra></extra>",
         "legendgroup": "Equity + commission",
         "marker": {
          "color": "#00cc96",
          "pattern": {
           "shape": ""
          }
         },
         "name": "Equity + commission",
         "offsetgroup": "Equity + commission",
         "orientation": "v",
         "showlegend": true,
         "type": "histogram",
         "x": [
          325,
          325
         ],
         "xaxis": "x",
         "y": [
          1,
          1
         ],
         "yaxis": "y"
        },
        {
         "alignmentgroup": "True",
         "bingroup": "x",
         "histfunc": "sum",
         "hovertemplate": "investment_type=Equity + Royalty<br>value_k=%{x}<br>sum of count=%{y}<extra></extra>",
         "legendgroup": "Equity + Royalty",
         "marker": {
          "color": "#ab63fa",
          "pattern": {
           "shape": ""
          }
         },
         "name": "Equity + Royalty",
         "offsetgroup": "Equity + Royalty",
         "orientation": "v",
         "showlegend": true,
         "type": "histogram",
         "x": [
          75,
          100,
          50,
          150,
          80,
          200,
          270,
          50,
          350
         ],
         "xaxis": "x",
         "y": [
          1,
          1,
          1,
          1,
          1,
          1,
          1,
          1,
          1
         ],
         "yaxis": "y"
        },
        {
         "alignmentgroup": "True",
         "bingroup": "x",
         "histfunc": "sum",
         "hovertemplate": "investment_type=Equity + option<br>value_k=%{x}<br>sum of count=%{y}<extra></extra>",
         "legendgroup": "Equity + option",
         "marker": {
          "color": "#FFA15A",
          "pattern": {
           "shape": ""
          }
         },
         "name": "Equity + option",
         "offsetgroup": "Equity + option",
         "orientation": "v",
         "showlegend": true,
         "type": "histogram",
         "x": [
          100,
          500
         ],
         "xaxis": "x",
         "y": [
          1,
          1
         ],
         "yaxis": "y"
        },
        {
         "alignmentgroup": "True",
         "bingroup": "x",
         "histfunc": "sum",
         "hovertemplate": "investment_type=Equity + royalty<br>value_k=%{x}<br>sum of count=%{y}<extra></extra>",
         "legendgroup": "Equity + royalty",
         "marker": {
          "color": "#19d3f3",
          "pattern": {
           "shape": ""
          }
         },
         "name": "Equity + royalty",
         "offsetgroup": "Equity + royalty",
         "orientation": "v",
         "showlegend": true,
         "type": "histogram",
         "x": [
          250,
          125
         ],
         "xaxis": "x",
         "y": [
          1,
          1
         ],
         "yaxis": "y"
        },
        {
         "alignmentgroup": "True",
         "bingroup": "x",
         "histfunc": "sum",
         "hovertemplate": "investment_type=Equity + Comissions<br>value_k=%{x}<br>sum of count=%{y}<extra></extra>",
         "legendgroup": "Equity + Comissions",
         "marker": {
          "color": "#FF6692",
          "pattern": {
           "shape": ""
          }
         },
         "name": "Equity + Comissions",
         "offsetgroup": "Equity + Comissions",
         "orientation": "v",
         "showlegend": true,
         "type": "histogram",
         "x": [
          250
         ],
         "xaxis": "x",
         "y": [
          1
         ],
         "yaxis": "y"
        },
        {
         "alignmentgroup": "True",
         "bingroup": "x",
         "histfunc": "sum",
         "hovertemplate": "investment_type=Equity + advisory<br>value_k=%{x}<br>sum of count=%{y}<extra></extra>",
         "legendgroup": "Equity + advisory",
         "marker": {
          "color": "#B6E880",
          "pattern": {
           "shape": ""
          }
         },
         "name": "Equity + advisory",
         "offsetgroup": "Equity + advisory",
         "orientation": "v",
         "showlegend": true,
         "type": "histogram",
         "x": [
          500,
          150,
          75,
          250,
          150,
          75
         ],
         "xaxis": "x",
         "y": [
          1,
          1,
          1,
          1,
          1,
          1
         ],
         "yaxis": "y"
        },
        {
         "alignmentgroup": "True",
         "bingroup": "x",
         "histfunc": "sum",
         "hovertemplate": "investment_type=Equity <br>value_k=%{x}<br>sum of count=%{y}<extra></extra>",
         "legendgroup": "Equity ",
         "marker": {
          "color": "#FF97FF",
          "pattern": {
           "shape": ""
          }
         },
         "name": "Equity ",
         "offsetgroup": "Equity ",
         "orientation": "v",
         "showlegend": true,
         "type": "histogram",
         "x": [
          200,
          250
         ],
         "xaxis": "x",
         "y": [
          1,
          1
         ],
         "yaxis": "y"
        },
        {
         "alignmentgroup": "True",
         "bingroup": "x",
         "histfunc": "sum",
         "hovertemplate": "investment_type=Equity + payment<br>value_k=%{x}<br>sum of count=%{y}<extra></extra>",
         "legendgroup": "Equity + payment",
         "marker": {
          "color": "#FECB52",
          "pattern": {
           "shape": ""
          }
         },
         "name": "Equity + payment",
         "offsetgroup": "Equity + payment",
         "orientation": "v",
         "showlegend": true,
         "type": "histogram",
         "x": [
          300
         ],
         "xaxis": "x",
         "y": [
          1
         ],
         "yaxis": "y"
        },
        {
         "alignmentgroup": "True",
         "bingroup": "x",
         "histfunc": "sum",
         "hovertemplate": "investment_type=Equity + loan<br>value_k=%{x}<br>sum of count=%{y}<extra></extra>",
         "legendgroup": "Equity + loan",
         "marker": {
          "color": "#636efa",
          "pattern": {
           "shape": ""
          }
         },
         "name": "Equity + loan",
         "offsetgroup": "Equity + loan",
         "orientation": "v",
         "showlegend": true,
         "type": "histogram",
         "x": [
          175,
          37.5,
          50,
          300,
          125,
          500,
          300,
          500,
          500,
          37.5,
          300,
          800
         ],
         "xaxis": "x",
         "y": [
          1,
          1,
          1,
          1,
          1,
          1,
          1,
          1,
          1,
          1,
          1,
          1
         ],
         "yaxis": "y"
        },
        {
         "alignmentgroup": "True",
         "bingroup": "x",
         "histfunc": "sum",
         "hovertemplate": "investment_type=Equity + Zero liablities<br>value_k=%{x}<br>sum of count=%{y}<extra></extra>",
         "legendgroup": "Equity + Zero liablities",
         "marker": {
          "color": "#EF553B",
          "pattern": {
           "shape": ""
          }
         },
         "name": "Equity + Zero liablities",
         "offsetgroup": "Equity + Zero liablities",
         "orientation": "v",
         "showlegend": true,
         "type": "histogram",
         "x": [
          75
         ],
         "xaxis": "x",
         "y": [
          1
         ],
         "yaxis": "y"
        },
        {
         "alignmentgroup": "True",
         "bingroup": "x",
         "histfunc": "sum",
         "hovertemplate": "investment_type=Equity + Draw <br>value_k=%{x}<br>sum of count=%{y}<extra></extra>",
         "legendgroup": "Equity + Draw ",
         "marker": {
          "color": "#00cc96",
          "pattern": {
           "shape": ""
          }
         },
         "name": "Equity + Draw ",
         "offsetgroup": "Equity + Draw ",
         "orientation": "v",
         "showlegend": true,
         "type": "histogram",
         "x": [
          200
         ],
         "xaxis": "x",
         "y": [
          1
         ],
         "yaxis": "y"
        },
        {
         "alignmentgroup": "True",
         "bingroup": "x",
         "histfunc": "sum",
         "hovertemplate": "investment_type=Loan<br>value_k=%{x}<br>sum of count=%{y}<extra></extra>",
         "legendgroup": "Loan",
         "marker": {
          "color": "#ab63fa",
          "pattern": {
           "shape": ""
          }
         },
         "name": "Loan",
         "offsetgroup": "Loan",
         "orientation": "v",
         "showlegend": true,
         "type": "histogram",
         "x": [
          150
         ],
         "xaxis": "x",
         "y": [
          1
         ],
         "yaxis": "y"
        },
        {
         "alignmentgroup": "True",
         "bingroup": "x",
         "histfunc": "sum",
         "hovertemplate": "investment_type=Sales<br>value_k=%{x}<br>sum of count=%{y}<extra></extra>",
         "legendgroup": "Sales",
         "marker": {
          "color": "#FFA15A",
          "pattern": {
           "shape": ""
          }
         },
         "name": "Sales",
         "offsetgroup": "Sales",
         "orientation": "v",
         "showlegend": true,
         "type": "histogram",
         "x": [
          150
         ],
         "xaxis": "x",
         "y": [
          1
         ],
         "yaxis": "y"
        },
        {
         "alignmentgroup": "True",
         "bingroup": "x",
         "histfunc": "sum",
         "hovertemplate": "investment_type=Royalty<br>value_k=%{x}<br>sum of count=%{y}<extra></extra>",
         "legendgroup": "Royalty",
         "marker": {
          "color": "#19d3f3",
          "pattern": {
           "shape": ""
          }
         },
         "name": "Royalty",
         "offsetgroup": "Royalty",
         "orientation": "v",
         "showlegend": true,
         "type": "histogram",
         "x": [
          100,
          75,
          500
         ],
         "xaxis": "x",
         "y": [
          1,
          1,
          1
         ],
         "yaxis": "y"
        },
        {
         "alignmentgroup": "True",
         "bingroup": "x",
         "histfunc": "sum",
         "hovertemplate": "investment_type=Licensing rights<br>value_k=%{x}<br>sum of count=%{y}<extra></extra>",
         "legendgroup": "Licensing rights",
         "marker": {
          "color": "#FF6692",
          "pattern": {
           "shape": ""
          }
         },
         "name": "Licensing rights",
         "offsetgroup": "Licensing rights",
         "orientation": "v",
         "showlegend": true,
         "type": "histogram",
         "x": [
          75,
          75
         ],
         "xaxis": "x",
         "y": [
          1,
          1
         ],
         "yaxis": "y"
        },
        {
         "alignmentgroup": "True",
         "bingroup": "x",
         "histfunc": "sum",
         "hovertemplate": "investment_type=Revenue<br>value_k=%{x}<br>sum of count=%{y}<extra></extra>",
         "legendgroup": "Revenue",
         "marker": {
          "color": "#B6E880",
          "pattern": {
           "shape": ""
          }
         },
         "name": "Revenue",
         "offsetgroup": "Revenue",
         "orientation": "v",
         "showlegend": true,
         "type": "histogram",
         "x": [
          400
         ],
         "xaxis": "x",
         "y": [
          1
         ],
         "yaxis": "y"
        },
        {
         "alignmentgroup": "True",
         "bingroup": "x",
         "histfunc": "sum",
         "hovertemplate": "investment_type=Equity + Loan + Ad Space<br>value_k=%{x}<br>sum of count=%{y}<extra></extra>",
         "legendgroup": "Equity + Loan + Ad Space",
         "marker": {
          "color": "#FF97FF",
          "pattern": {
           "shape": ""
          }
         },
         "name": "Equity + Loan + Ad Space",
         "offsetgroup": "Equity + Loan + Ad Space",
         "orientation": "v",
         "showlegend": true,
         "type": "histogram",
         "x": [
          500
         ],
         "xaxis": "x",
         "y": [
          1
         ],
         "yaxis": "y"
        },
        {
         "alignmentgroup": "True",
         "bingroup": "x",
         "histfunc": "sum",
         "hovertemplate": "investment_type=Equity  + Royalty<br>value_k=%{x}<br>sum of count=%{y}<extra></extra>",
         "legendgroup": "Equity  + Royalty",
         "marker": {
          "color": "#FECB52",
          "pattern": {
           "shape": ""
          }
         },
         "name": "Equity  + Royalty",
         "offsetgroup": "Equity  + Royalty",
         "orientation": "v",
         "showlegend": true,
         "type": "histogram",
         "x": [
          250
         ],
         "xaxis": "x",
         "y": [
          1
         ],
         "yaxis": "y"
        },
        {
         "alignmentgroup": "True",
         "bingroup": "x",
         "histfunc": "sum",
         "hovertemplate": "investment_type=Equity + options<br>value_k=%{x}<br>sum of count=%{y}<extra></extra>",
         "legendgroup": "Equity + options",
         "marker": {
          "color": "#636efa",
          "pattern": {
           "shape": ""
          }
         },
         "name": "Equity + options",
         "offsetgroup": "Equity + options",
         "orientation": "v",
         "showlegend": true,
         "type": "histogram",
         "x": [
          250
         ],
         "xaxis": "x",
         "y": [
          1
         ],
         "yaxis": "y"
        },
        {
         "alignmentgroup": "True",
         "bingroup": "x",
         "histfunc": "sum",
         "hovertemplate": "investment_type=Equity + credit<br>value_k=%{x}<br>sum of count=%{y}<extra></extra>",
         "legendgroup": "Equity + credit",
         "marker": {
          "color": "#EF553B",
          "pattern": {
           "shape": ""
          }
         },
         "name": "Equity + credit",
         "offsetgroup": "Equity + credit",
         "orientation": "v",
         "showlegend": true,
         "type": "histogram",
         "x": [
          100
         ],
         "xaxis": "x",
         "y": [
          1
         ],
         "yaxis": "y"
        },
        {
         "alignmentgroup": "True",
         "bingroup": "x",
         "histfunc": "sum",
         "hovertemplate": "investment_type=Equity + Loan<br>value_k=%{x}<br>sum of count=%{y}<extra></extra>",
         "legendgroup": "Equity + Loan",
         "marker": {
          "color": "#00cc96",
          "pattern": {
           "shape": ""
          }
         },
         "name": "Equity + Loan",
         "offsetgroup": "Equity + Loan",
         "orientation": "v",
         "showlegend": true,
         "type": "histogram",
         "x": [
          300
         ],
         "xaxis": "x",
         "y": [
          1
         ],
         "yaxis": "y"
        },
        {
         "alignmentgroup": "True",
         "bingroup": "x",
         "histfunc": "sum",
         "hovertemplate": "investment_type=Equity + Advisory + Board<br>value_k=%{x}<br>sum of count=%{y}<extra></extra>",
         "legendgroup": "Equity + Advisory + Board",
         "marker": {
          "color": "#ab63fa",
          "pattern": {
           "shape": ""
          }
         },
         "name": "Equity + Advisory + Board",
         "offsetgroup": "Equity + Advisory + Board",
         "orientation": "v",
         "showlegend": true,
         "type": "histogram",
         "x": [
          500,
          500
         ],
         "xaxis": "x",
         "y": [
          1,
          1
         ],
         "yaxis": "y"
        },
        {
         "alignmentgroup": "True",
         "bingroup": "x",
         "histfunc": "sum",
         "hovertemplate": "investment_type=Equity+loan<br>value_k=%{x}<br>sum of count=%{y}<extra></extra>",
         "legendgroup": "Equity+loan",
         "marker": {
          "color": "#FFA15A",
          "pattern": {
           "shape": ""
          }
         },
         "name": "Equity+loan",
         "offsetgroup": "Equity+loan",
         "orientation": "v",
         "showlegend": true,
         "type": "histogram",
         "x": [
          100
         ],
         "xaxis": "x",
         "y": [
          1
         ],
         "yaxis": "y"
        },
        {
         "alignmentgroup": "True",
         "bingroup": "x",
         "histfunc": "sum",
         "hovertemplate": "investment_type=Equity + advisory <br>value_k=%{x}<br>sum of count=%{y}<extra></extra>",
         "legendgroup": "Equity + advisory ",
         "marker": {
          "color": "#19d3f3",
          "pattern": {
           "shape": ""
          }
         },
         "name": "Equity + advisory ",
         "offsetgroup": "Equity + advisory ",
         "orientation": "v",
         "showlegend": true,
         "type": "histogram",
         "x": [
          125
         ],
         "xaxis": "x",
         "y": [
          1
         ],
         "yaxis": "y"
        }
       ],
       "layout": {
        "barmode": "relative",
        "height": 500,
        "legend": {
         "title": {
          "text": "investment_type"
         },
         "tracegroupgap": 0
        },
        "template": {
         "data": {
          "bar": [
           {
            "error_x": {
             "color": "#2a3f5f"
            },
            "error_y": {
             "color": "#2a3f5f"
            },
            "marker": {
             "line": {
              "color": "#E5ECF6",
              "width": 0.5
             },
             "pattern": {
              "fillmode": "overlay",
              "size": 10,
              "solidity": 0.2
             }
            },
            "type": "bar"
           }
          ],
          "barpolar": [
           {
            "marker": {
             "line": {
              "color": "#E5ECF6",
              "width": 0.5
             },
             "pattern": {
              "fillmode": "overlay",
              "size": 10,
              "solidity": 0.2
             }
            },
            "type": "barpolar"
           }
          ],
          "carpet": [
           {
            "aaxis": {
             "endlinecolor": "#2a3f5f",
             "gridcolor": "white",
             "linecolor": "white",
             "minorgridcolor": "white",
             "startlinecolor": "#2a3f5f"
            },
            "baxis": {
             "endlinecolor": "#2a3f5f",
             "gridcolor": "white",
             "linecolor": "white",
             "minorgridcolor": "white",
             "startlinecolor": "#2a3f5f"
            },
            "type": "carpet"
           }
          ],
          "choropleth": [
           {
            "colorbar": {
             "outlinewidth": 0,
             "ticks": ""
            },
            "type": "choropleth"
           }
          ],
          "contour": [
           {
            "colorbar": {
             "outlinewidth": 0,
             "ticks": ""
            },
            "colorscale": [
             [
              0,
              "#0d0887"
             ],
             [
              0.1111111111111111,
              "#46039f"
             ],
             [
              0.2222222222222222,
              "#7201a8"
             ],
             [
              0.3333333333333333,
              "#9c179e"
             ],
             [
              0.4444444444444444,
              "#bd3786"
             ],
             [
              0.5555555555555556,
              "#d8576b"
             ],
             [
              0.6666666666666666,
              "#ed7953"
             ],
             [
              0.7777777777777778,
              "#fb9f3a"
             ],
             [
              0.8888888888888888,
              "#fdca26"
             ],
             [
              1,
              "#f0f921"
             ]
            ],
            "type": "contour"
           }
          ],
          "contourcarpet": [
           {
            "colorbar": {
             "outlinewidth": 0,
             "ticks": ""
            },
            "type": "contourcarpet"
           }
          ],
          "heatmap": [
           {
            "colorbar": {
             "outlinewidth": 0,
             "ticks": ""
            },
            "colorscale": [
             [
              0,
              "#0d0887"
             ],
             [
              0.1111111111111111,
              "#46039f"
             ],
             [
              0.2222222222222222,
              "#7201a8"
             ],
             [
              0.3333333333333333,
              "#9c179e"
             ],
             [
              0.4444444444444444,
              "#bd3786"
             ],
             [
              0.5555555555555556,
              "#d8576b"
             ],
             [
              0.6666666666666666,
              "#ed7953"
             ],
             [
              0.7777777777777778,
              "#fb9f3a"
             ],
             [
              0.8888888888888888,
              "#fdca26"
             ],
             [
              1,
              "#f0f921"
             ]
            ],
            "type": "heatmap"
           }
          ],
          "heatmapgl": [
           {
            "colorbar": {
             "outlinewidth": 0,
             "ticks": ""
            },
            "colorscale": [
             [
              0,
              "#0d0887"
             ],
             [
              0.1111111111111111,
              "#46039f"
             ],
             [
              0.2222222222222222,
              "#7201a8"
             ],
             [
              0.3333333333333333,
              "#9c179e"
             ],
             [
              0.4444444444444444,
              "#bd3786"
             ],
             [
              0.5555555555555556,
              "#d8576b"
             ],
             [
              0.6666666666666666,
              "#ed7953"
             ],
             [
              0.7777777777777778,
              "#fb9f3a"
             ],
             [
              0.8888888888888888,
              "#fdca26"
             ],
             [
              1,
              "#f0f921"
             ]
            ],
            "type": "heatmapgl"
           }
          ],
          "histogram": [
           {
            "marker": {
             "pattern": {
              "fillmode": "overlay",
              "size": 10,
              "solidity": 0.2
             }
            },
            "type": "histogram"
           }
          ],
          "histogram2d": [
           {
            "colorbar": {
             "outlinewidth": 0,
             "ticks": ""
            },
            "colorscale": [
             [
              0,
              "#0d0887"
             ],
             [
              0.1111111111111111,
              "#46039f"
             ],
             [
              0.2222222222222222,
              "#7201a8"
             ],
             [
              0.3333333333333333,
              "#9c179e"
             ],
             [
              0.4444444444444444,
              "#bd3786"
             ],
             [
              0.5555555555555556,
              "#d8576b"
             ],
             [
              0.6666666666666666,
              "#ed7953"
             ],
             [
              0.7777777777777778,
              "#fb9f3a"
             ],
             [
              0.8888888888888888,
              "#fdca26"
             ],
             [
              1,
              "#f0f921"
             ]
            ],
            "type": "histogram2d"
           }
          ],
          "histogram2dcontour": [
           {
            "colorbar": {
             "outlinewidth": 0,
             "ticks": ""
            },
            "colorscale": [
             [
              0,
              "#0d0887"
             ],
             [
              0.1111111111111111,
              "#46039f"
             ],
             [
              0.2222222222222222,
              "#7201a8"
             ],
             [
              0.3333333333333333,
              "#9c179e"
             ],
             [
              0.4444444444444444,
              "#bd3786"
             ],
             [
              0.5555555555555556,
              "#d8576b"
             ],
             [
              0.6666666666666666,
              "#ed7953"
             ],
             [
              0.7777777777777778,
              "#fb9f3a"
             ],
             [
              0.8888888888888888,
              "#fdca26"
             ],
             [
              1,
              "#f0f921"
             ]
            ],
            "type": "histogram2dcontour"
           }
          ],
          "mesh3d": [
           {
            "colorbar": {
             "outlinewidth": 0,
             "ticks": ""
            },
            "type": "mesh3d"
           }
          ],
          "parcoords": [
           {
            "line": {
             "colorbar": {
              "outlinewidth": 0,
              "ticks": ""
             }
            },
            "type": "parcoords"
           }
          ],
          "pie": [
           {
            "automargin": true,
            "type": "pie"
           }
          ],
          "scatter": [
           {
            "fillpattern": {
             "fillmode": "overlay",
             "size": 10,
             "solidity": 0.2
            },
            "type": "scatter"
           }
          ],
          "scatter3d": [
           {
            "line": {
             "colorbar": {
              "outlinewidth": 0,
              "ticks": ""
             }
            },
            "marker": {
             "colorbar": {
              "outlinewidth": 0,
              "ticks": ""
             }
            },
            "type": "scatter3d"
           }
          ],
          "scattercarpet": [
           {
            "marker": {
             "colorbar": {
              "outlinewidth": 0,
              "ticks": ""
             }
            },
            "type": "scattercarpet"
           }
          ],
          "scattergeo": [
           {
            "marker": {
             "colorbar": {
              "outlinewidth": 0,
              "ticks": ""
             }
            },
            "type": "scattergeo"
           }
          ],
          "scattergl": [
           {
            "marker": {
             "colorbar": {
              "outlinewidth": 0,
              "ticks": ""
             }
            },
            "type": "scattergl"
           }
          ],
          "scattermapbox": [
           {
            "marker": {
             "colorbar": {
              "outlinewidth": 0,
              "ticks": ""
             }
            },
            "type": "scattermapbox"
           }
          ],
          "scatterpolar": [
           {
            "marker": {
             "colorbar": {
              "outlinewidth": 0,
              "ticks": ""
             }
            },
            "type": "scatterpolar"
           }
          ],
          "scatterpolargl": [
           {
            "marker": {
             "colorbar": {
              "outlinewidth": 0,
              "ticks": ""
             }
            },
            "type": "scatterpolargl"
           }
          ],
          "scatterternary": [
           {
            "marker": {
             "colorbar": {
              "outlinewidth": 0,
              "ticks": ""
             }
            },
            "type": "scatterternary"
           }
          ],
          "surface": [
           {
            "colorbar": {
             "outlinewidth": 0,
             "ticks": ""
            },
            "colorscale": [
             [
              0,
              "#0d0887"
             ],
             [
              0.1111111111111111,
              "#46039f"
             ],
             [
              0.2222222222222222,
              "#7201a8"
             ],
             [
              0.3333333333333333,
              "#9c179e"
             ],
             [
              0.4444444444444444,
              "#bd3786"
             ],
             [
              0.5555555555555556,
              "#d8576b"
             ],
             [
              0.6666666666666666,
              "#ed7953"
             ],
             [
              0.7777777777777778,
              "#fb9f3a"
             ],
             [
              0.8888888888888888,
              "#fdca26"
             ],
             [
              1,
              "#f0f921"
             ]
            ],
            "type": "surface"
           }
          ],
          "table": [
           {
            "cells": {
             "fill": {
              "color": "#EBF0F8"
             },
             "line": {
              "color": "white"
             }
            },
            "header": {
             "fill": {
              "color": "#C8D4E3"
             },
             "line": {
              "color": "white"
             }
            },
            "type": "table"
           }
          ]
         },
         "layout": {
          "annotationdefaults": {
           "arrowcolor": "#2a3f5f",
           "arrowhead": 0,
           "arrowwidth": 1
          },
          "autotypenumbers": "strict",
          "coloraxis": {
           "colorbar": {
            "outlinewidth": 0,
            "ticks": ""
           }
          },
          "colorscale": {
           "diverging": [
            [
             0,
             "#8e0152"
            ],
            [
             0.1,
             "#c51b7d"
            ],
            [
             0.2,
             "#de77ae"
            ],
            [
             0.3,
             "#f1b6da"
            ],
            [
             0.4,
             "#fde0ef"
            ],
            [
             0.5,
             "#f7f7f7"
            ],
            [
             0.6,
             "#e6f5d0"
            ],
            [
             0.7,
             "#b8e186"
            ],
            [
             0.8,
             "#7fbc41"
            ],
            [
             0.9,
             "#4d9221"
            ],
            [
             1,
             "#276419"
            ]
           ],
           "sequential": [
            [
             0,
             "#0d0887"
            ],
            [
             0.1111111111111111,
             "#46039f"
            ],
            [
             0.2222222222222222,
             "#7201a8"
            ],
            [
             0.3333333333333333,
             "#9c179e"
            ],
            [
             0.4444444444444444,
             "#bd3786"
            ],
            [
             0.5555555555555556,
             "#d8576b"
            ],
            [
             0.6666666666666666,
             "#ed7953"
            ],
            [
             0.7777777777777778,
             "#fb9f3a"
            ],
            [
             0.8888888888888888,
             "#fdca26"
            ],
            [
             1,
             "#f0f921"
            ]
           ],
           "sequentialminus": [
            [
             0,
             "#0d0887"
            ],
            [
             0.1111111111111111,
             "#46039f"
            ],
            [
             0.2222222222222222,
             "#7201a8"
            ],
            [
             0.3333333333333333,
             "#9c179e"
            ],
            [
             0.4444444444444444,
             "#bd3786"
            ],
            [
             0.5555555555555556,
             "#d8576b"
            ],
            [
             0.6666666666666666,
             "#ed7953"
            ],
            [
             0.7777777777777778,
             "#fb9f3a"
            ],
            [
             0.8888888888888888,
             "#fdca26"
            ],
            [
             1,
             "#f0f921"
            ]
           ]
          },
          "colorway": [
           "#636efa",
           "#EF553B",
           "#00cc96",
           "#ab63fa",
           "#FFA15A",
           "#19d3f3",
           "#FF6692",
           "#B6E880",
           "#FF97FF",
           "#FECB52"
          ],
          "font": {
           "color": "#2a3f5f"
          },
          "geo": {
           "bgcolor": "white",
           "lakecolor": "white",
           "landcolor": "#E5ECF6",
           "showlakes": true,
           "showland": true,
           "subunitcolor": "white"
          },
          "hoverlabel": {
           "align": "left"
          },
          "hovermode": "closest",
          "mapbox": {
           "style": "light"
          },
          "paper_bgcolor": "white",
          "plot_bgcolor": "#E5ECF6",
          "polar": {
           "angularaxis": {
            "gridcolor": "white",
            "linecolor": "white",
            "ticks": ""
           },
           "bgcolor": "#E5ECF6",
           "radialaxis": {
            "gridcolor": "white",
            "linecolor": "white",
            "ticks": ""
           }
          },
          "scene": {
           "xaxis": {
            "backgroundcolor": "#E5ECF6",
            "gridcolor": "white",
            "gridwidth": 2,
            "linecolor": "white",
            "showbackground": true,
            "ticks": "",
            "zerolinecolor": "white"
           },
           "yaxis": {
            "backgroundcolor": "#E5ECF6",
            "gridcolor": "white",
            "gridwidth": 2,
            "linecolor": "white",
            "showbackground": true,
            "ticks": "",
            "zerolinecolor": "white"
           },
           "zaxis": {
            "backgroundcolor": "#E5ECF6",
            "gridcolor": "white",
            "gridwidth": 2,
            "linecolor": "white",
            "showbackground": true,
            "ticks": "",
            "zerolinecolor": "white"
           }
          },
          "shapedefaults": {
           "line": {
            "color": "#2a3f5f"
           }
          },
          "ternary": {
           "aaxis": {
            "gridcolor": "white",
            "linecolor": "white",
            "ticks": ""
           },
           "baxis": {
            "gridcolor": "white",
            "linecolor": "white",
            "ticks": ""
           },
           "bgcolor": "#E5ECF6",
           "caxis": {
            "gridcolor": "white",
            "linecolor": "white",
            "ticks": ""
           }
          },
          "title": {
           "x": 0.05
          },
          "xaxis": {
           "automargin": true,
           "gridcolor": "white",
           "linecolor": "white",
           "ticks": "",
           "title": {
            "standoff": 15
           },
           "zerolinecolor": "white",
           "zerolinewidth": 2
          },
          "yaxis": {
           "automargin": true,
           "gridcolor": "white",
           "linecolor": "white",
           "ticks": "",
           "title": {
            "standoff": 15
           },
           "zerolinecolor": "white",
           "zerolinewidth": 2
          }
         }
        },
        "title": {
         "text": "Histogram of Investments under $1M, by Investment Type & Shark (All)"
        },
        "xaxis": {
         "anchor": "y",
         "domain": [
          0,
          1
         ],
         "title": {
          "text": "Investment Size"
         }
        },
        "yaxis": {
         "anchor": "x",
         "domain": [
          0,
          1
         ],
         "title": {
          "text": "sum of count"
         }
        }
       }
      },
      "text/html": [
       "<div>                            <div id=\"368014e2-c7c7-45d3-a08b-84034e04d76e\" class=\"plotly-graph-div\" style=\"height:500px; width:100%;\"></div>            <script type=\"text/javascript\">                require([\"plotly\"], function(Plotly) {                    window.PLOTLYENV=window.PLOTLYENV || {};                                    if (document.getElementById(\"368014e2-c7c7-45d3-a08b-84034e04d76e\")) {                    Plotly.newPlot(                        \"368014e2-c7c7-45d3-a08b-84034e04d76e\",                        [{\"alignmentgroup\":\"True\",\"bingroup\":\"x\",\"histfunc\":\"sum\",\"hovertemplate\":\"investment_type=Buyout<br>value_k=%{x}<br>sum of count=%{y}<extra></extra>\",\"legendgroup\":\"Buyout\",\"marker\":{\"color\":\"#636efa\",\"pattern\":{\"shape\":\"\"}},\"name\":\"Buyout\",\"offsetgroup\":\"Buyout\",\"orientation\":\"v\",\"showlegend\":true,\"x\":[250.0,100.0,40.0,150.0,300.0,100.0,70.0,50.0,50.0,75.0,100.0,200.0,250.0,200.0,35.0,225.0,50.0,200.0,300.0,75.0,50.0,50.0],\"xaxis\":\"x\",\"y\":[1,1,1,1,1,1,1,1,1,1,1,1,1,1,1,1,1,1,1,1,1,1],\"yaxis\":\"y\",\"type\":\"histogram\"},{\"alignmentgroup\":\"True\",\"bingroup\":\"x\",\"histfunc\":\"sum\",\"hovertemplate\":\"investment_type=Equity<br>value_k=%{x}<br>sum of count=%{y}<extra></extra>\",\"legendgroup\":\"Equity\",\"marker\":{\"color\":\"#EF553B\",\"pattern\":{\"shape\":\"\"}},\"name\":\"Equity\",\"offsetgroup\":\"Equity\",\"orientation\":\"v\",\"showlegend\":true,\"x\":[125.0,100.0,50.0,250.0,100.0,500.0,75.0,40.0,35.0,50.0,250.0,54.0,125.0,300.0,50.0,125.00000000000003,300.0,50.0,150.0,275.0,200.0,50.0,300.0,500.0,75.0,100.0,77.77777777777779,20.0,75.0,60.0,50.0,250.0,100.0,50.0,200.0,150.0,50.0,250.0,300.0,150.0,60.0,112.5,125.0,100.0,17.5,100.0,150.0,200.0,25.0,350.0,90.0,50.0,125.0,20.0,50.0,50.0,50.0,50.0,250.0,50.0,83.33333333333334,55.0,150.0,150.0,25.0,300.0,125.0,37.5,12.5,100.0,300.0,70.0,50.0,50.0,200.0,300.0,50.0,250.0,50.0,20.0,175.0,50.0,83.33333333333334,75.0,150.0,150.0,125.0,300.0,125.00000000000003,300.0,75.0,100.0,300.0,75.0,375.0,600.0,125.0,75.0,110.0,60.0,750.0,200.00000000000003,100.0,83.33333333333333,100.0,275.0,75.0,200.0,66.66666666666666,200.0,100.0,250.0,150.0,125.0,166.66666666666666,300.0,200.0,50.0,200.0,500.0,100.0,250.0,250.0,35.0,150.0,125.00000000000003,75.0,100.0,75.0,62.5,75.0,22.222222222222225,200.00000000000003,83.33333333333333,300.0,75.0,80.0,100.0,200.0,300.0,75.0,250.0,600.0,125.0,150.0,166.66666666666666,120.0,300.0,200.0,60.0,75.0,100.0,100.0,250.0,60.0,75.0,25.0,100.0,200.0,40.0,150.0,300.0,50.0,250.0,83.33333333333334,300.0,100.0,150.0,225.0,50.0,125.0,100.0,80.0,75.0,150.0,75.0,300.0,125.0,500.0000000000001,37.5,250.0,200.0,50.0,250.0,100.0,75.0,350.0,250.0,150.0,500.0,600.0,600.0,75.0,500.0,12.5,200.0,150.0,200.00000000000003,80.0,300.0,300.0,100.0,75.0,75.0,250.0,100.0,70.0,100.0,150.0,100.0,300.0,150.0,100.0,500.0,66.66666666666666,100.0,75.0,120.0,100.0,75.0,200.0,100.0,100.0,125.0,250.0,50.0,200.0,50.0,112.5,550.0,50.0,40.0,550.0,100.0,250.0,600.0,250.0,100.0,450.0,180.0,150.0,150.0,300.0,600.0,50.0,300.0,150.0,500.0,75.0,50.0,75.0,50.0,75.0,40.0,150.0,225.0,300.0,300.0,75.0,125.00000000000003,120.0,400.0,55.0,60.0,250.0,200.0,200.0,62.5,500.0,150.0,350.0,125.0,75.0,275.0,75.0,300.0,75.0,20.0,100.0,125.0,75.0,83.33333333333333,100.0,150.0,75.0,75.0,500.0,66.66666666666666,75.0,100.0,120.0,100.0,50.0,350.0,75.0,50.0,166.66666666666666,150.0,17.5,125.0,150.0,60.0,60.0,400.0,150.0,150.0,200.0,300.0,75.0,240.0],\"xaxis\":\"x\",\"y\":[1,1,1,1,1,1,1,1,1,1,1,1,1,1,1,1,1,1,1,1,1,1,1,1,1,1,1,1,1,1,1,1,1,1,1,1,1,1,1,1,1,1,1,1,1,1,1,1,1,1,1,1,1,1,1,1,1,1,1,1,1,1,1,1,1,1,1,1,1,1,1,1,1,1,1,1,1,1,1,1,1,1,1,1,1,1,1,1,1,1,1,1,1,1,1,1,1,1,1,1,1,1,1,1,1,1,1,1,1,1,1,1,1,1,1,1,1,1,1,1,1,1,1,1,1,1,1,1,1,1,1,1,1,1,1,1,1,1,1,1,1,1,1,1,1,1,1,1,1,1,1,1,1,1,1,1,1,1,1,1,1,1,1,1,1,1,1,1,1,1,1,1,1,1,1,1,1,1,1,1,1,1,1,1,1,1,1,1,1,1,1,1,1,1,1,1,1,1,1,1,1,1,1,1,1,1,1,1,1,1,1,1,1,1,1,1,1,1,1,1,1,1,1,1,1,1,1,1,1,1,1,1,1,1,1,1,1,1,1,1,1,1,1,1,1,1,1,1,1,1,1,1,1,1,1,1,1,1,1,1,1,1,1,1,1,1,1,1,1,1,1,1,1,1,1,1,1,1,1,1,1,1,1,1,1,1,1,1,1,1,1,1,1,1,1,1,1,1,1,1,1,1,1,1,1,1,1,1,1,1],\"yaxis\":\"y\",\"type\":\"histogram\"},{\"alignmentgroup\":\"True\",\"bingroup\":\"x\",\"histfunc\":\"sum\",\"hovertemplate\":\"investment_type=Equity + commission<br>value_k=%{x}<br>sum of count=%{y}<extra></extra>\",\"legendgroup\":\"Equity + commission\",\"marker\":{\"color\":\"#00cc96\",\"pattern\":{\"shape\":\"\"}},\"name\":\"Equity + commission\",\"offsetgroup\":\"Equity + commission\",\"orientation\":\"v\",\"showlegend\":true,\"x\":[325.0,325.0],\"xaxis\":\"x\",\"y\":[1,1],\"yaxis\":\"y\",\"type\":\"histogram\"},{\"alignmentgroup\":\"True\",\"bingroup\":\"x\",\"histfunc\":\"sum\",\"hovertemplate\":\"investment_type=Equity + Royalty<br>value_k=%{x}<br>sum of count=%{y}<extra></extra>\",\"legendgroup\":\"Equity + Royalty\",\"marker\":{\"color\":\"#ab63fa\",\"pattern\":{\"shape\":\"\"}},\"name\":\"Equity + Royalty\",\"offsetgroup\":\"Equity + Royalty\",\"orientation\":\"v\",\"showlegend\":true,\"x\":[75.0,100.0,50.0,150.0,80.0,200.0,270.0,50.0,350.0],\"xaxis\":\"x\",\"y\":[1,1,1,1,1,1,1,1,1],\"yaxis\":\"y\",\"type\":\"histogram\"},{\"alignmentgroup\":\"True\",\"bingroup\":\"x\",\"histfunc\":\"sum\",\"hovertemplate\":\"investment_type=Equity + option<br>value_k=%{x}<br>sum of count=%{y}<extra></extra>\",\"legendgroup\":\"Equity + option\",\"marker\":{\"color\":\"#FFA15A\",\"pattern\":{\"shape\":\"\"}},\"name\":\"Equity + option\",\"offsetgroup\":\"Equity + option\",\"orientation\":\"v\",\"showlegend\":true,\"x\":[100.0,500.0],\"xaxis\":\"x\",\"y\":[1,1],\"yaxis\":\"y\",\"type\":\"histogram\"},{\"alignmentgroup\":\"True\",\"bingroup\":\"x\",\"histfunc\":\"sum\",\"hovertemplate\":\"investment_type=Equity + royalty<br>value_k=%{x}<br>sum of count=%{y}<extra></extra>\",\"legendgroup\":\"Equity + royalty\",\"marker\":{\"color\":\"#19d3f3\",\"pattern\":{\"shape\":\"\"}},\"name\":\"Equity + royalty\",\"offsetgroup\":\"Equity + royalty\",\"orientation\":\"v\",\"showlegend\":true,\"x\":[250.0,125.0],\"xaxis\":\"x\",\"y\":[1,1],\"yaxis\":\"y\",\"type\":\"histogram\"},{\"alignmentgroup\":\"True\",\"bingroup\":\"x\",\"histfunc\":\"sum\",\"hovertemplate\":\"investment_type=Equity + Comissions<br>value_k=%{x}<br>sum of count=%{y}<extra></extra>\",\"legendgroup\":\"Equity + Comissions\",\"marker\":{\"color\":\"#FF6692\",\"pattern\":{\"shape\":\"\"}},\"name\":\"Equity + Comissions\",\"offsetgroup\":\"Equity + Comissions\",\"orientation\":\"v\",\"showlegend\":true,\"x\":[250.0],\"xaxis\":\"x\",\"y\":[1],\"yaxis\":\"y\",\"type\":\"histogram\"},{\"alignmentgroup\":\"True\",\"bingroup\":\"x\",\"histfunc\":\"sum\",\"hovertemplate\":\"investment_type=Equity + advisory<br>value_k=%{x}<br>sum of count=%{y}<extra></extra>\",\"legendgroup\":\"Equity + advisory\",\"marker\":{\"color\":\"#B6E880\",\"pattern\":{\"shape\":\"\"}},\"name\":\"Equity + advisory\",\"offsetgroup\":\"Equity + advisory\",\"orientation\":\"v\",\"showlegend\":true,\"x\":[500.0,150.0,75.0,250.0,150.0,75.0],\"xaxis\":\"x\",\"y\":[1,1,1,1,1,1],\"yaxis\":\"y\",\"type\":\"histogram\"},{\"alignmentgroup\":\"True\",\"bingroup\":\"x\",\"histfunc\":\"sum\",\"hovertemplate\":\"investment_type=Equity <br>value_k=%{x}<br>sum of count=%{y}<extra></extra>\",\"legendgroup\":\"Equity \",\"marker\":{\"color\":\"#FF97FF\",\"pattern\":{\"shape\":\"\"}},\"name\":\"Equity \",\"offsetgroup\":\"Equity \",\"orientation\":\"v\",\"showlegend\":true,\"x\":[200.0,250.0],\"xaxis\":\"x\",\"y\":[1,1],\"yaxis\":\"y\",\"type\":\"histogram\"},{\"alignmentgroup\":\"True\",\"bingroup\":\"x\",\"histfunc\":\"sum\",\"hovertemplate\":\"investment_type=Equity + payment<br>value_k=%{x}<br>sum of count=%{y}<extra></extra>\",\"legendgroup\":\"Equity + payment\",\"marker\":{\"color\":\"#FECB52\",\"pattern\":{\"shape\":\"\"}},\"name\":\"Equity + payment\",\"offsetgroup\":\"Equity + payment\",\"orientation\":\"v\",\"showlegend\":true,\"x\":[300.0],\"xaxis\":\"x\",\"y\":[1],\"yaxis\":\"y\",\"type\":\"histogram\"},{\"alignmentgroup\":\"True\",\"bingroup\":\"x\",\"histfunc\":\"sum\",\"hovertemplate\":\"investment_type=Equity + loan<br>value_k=%{x}<br>sum of count=%{y}<extra></extra>\",\"legendgroup\":\"Equity + loan\",\"marker\":{\"color\":\"#636efa\",\"pattern\":{\"shape\":\"\"}},\"name\":\"Equity + loan\",\"offsetgroup\":\"Equity + loan\",\"orientation\":\"v\",\"showlegend\":true,\"x\":[175.0,37.5,50.0,300.0,125.0,500.0,300.0,500.0,500.0,37.5,300.0,800.0],\"xaxis\":\"x\",\"y\":[1,1,1,1,1,1,1,1,1,1,1,1],\"yaxis\":\"y\",\"type\":\"histogram\"},{\"alignmentgroup\":\"True\",\"bingroup\":\"x\",\"histfunc\":\"sum\",\"hovertemplate\":\"investment_type=Equity + Zero liablities<br>value_k=%{x}<br>sum of count=%{y}<extra></extra>\",\"legendgroup\":\"Equity + Zero liablities\",\"marker\":{\"color\":\"#EF553B\",\"pattern\":{\"shape\":\"\"}},\"name\":\"Equity + Zero liablities\",\"offsetgroup\":\"Equity + Zero liablities\",\"orientation\":\"v\",\"showlegend\":true,\"x\":[75.0],\"xaxis\":\"x\",\"y\":[1],\"yaxis\":\"y\",\"type\":\"histogram\"},{\"alignmentgroup\":\"True\",\"bingroup\":\"x\",\"histfunc\":\"sum\",\"hovertemplate\":\"investment_type=Equity + Draw <br>value_k=%{x}<br>sum of count=%{y}<extra></extra>\",\"legendgroup\":\"Equity + Draw \",\"marker\":{\"color\":\"#00cc96\",\"pattern\":{\"shape\":\"\"}},\"name\":\"Equity + Draw \",\"offsetgroup\":\"Equity + Draw \",\"orientation\":\"v\",\"showlegend\":true,\"x\":[200.0],\"xaxis\":\"x\",\"y\":[1],\"yaxis\":\"y\",\"type\":\"histogram\"},{\"alignmentgroup\":\"True\",\"bingroup\":\"x\",\"histfunc\":\"sum\",\"hovertemplate\":\"investment_type=Loan<br>value_k=%{x}<br>sum of count=%{y}<extra></extra>\",\"legendgroup\":\"Loan\",\"marker\":{\"color\":\"#ab63fa\",\"pattern\":{\"shape\":\"\"}},\"name\":\"Loan\",\"offsetgroup\":\"Loan\",\"orientation\":\"v\",\"showlegend\":true,\"x\":[150.0],\"xaxis\":\"x\",\"y\":[1],\"yaxis\":\"y\",\"type\":\"histogram\"},{\"alignmentgroup\":\"True\",\"bingroup\":\"x\",\"histfunc\":\"sum\",\"hovertemplate\":\"investment_type=Sales<br>value_k=%{x}<br>sum of count=%{y}<extra></extra>\",\"legendgroup\":\"Sales\",\"marker\":{\"color\":\"#FFA15A\",\"pattern\":{\"shape\":\"\"}},\"name\":\"Sales\",\"offsetgroup\":\"Sales\",\"orientation\":\"v\",\"showlegend\":true,\"x\":[150.0],\"xaxis\":\"x\",\"y\":[1],\"yaxis\":\"y\",\"type\":\"histogram\"},{\"alignmentgroup\":\"True\",\"bingroup\":\"x\",\"histfunc\":\"sum\",\"hovertemplate\":\"investment_type=Royalty<br>value_k=%{x}<br>sum of count=%{y}<extra></extra>\",\"legendgroup\":\"Royalty\",\"marker\":{\"color\":\"#19d3f3\",\"pattern\":{\"shape\":\"\"}},\"name\":\"Royalty\",\"offsetgroup\":\"Royalty\",\"orientation\":\"v\",\"showlegend\":true,\"x\":[100.0,75.0,500.0],\"xaxis\":\"x\",\"y\":[1,1,1],\"yaxis\":\"y\",\"type\":\"histogram\"},{\"alignmentgroup\":\"True\",\"bingroup\":\"x\",\"histfunc\":\"sum\",\"hovertemplate\":\"investment_type=Licensing rights<br>value_k=%{x}<br>sum of count=%{y}<extra></extra>\",\"legendgroup\":\"Licensing rights\",\"marker\":{\"color\":\"#FF6692\",\"pattern\":{\"shape\":\"\"}},\"name\":\"Licensing rights\",\"offsetgroup\":\"Licensing rights\",\"orientation\":\"v\",\"showlegend\":true,\"x\":[75.0,75.0],\"xaxis\":\"x\",\"y\":[1,1],\"yaxis\":\"y\",\"type\":\"histogram\"},{\"alignmentgroup\":\"True\",\"bingroup\":\"x\",\"histfunc\":\"sum\",\"hovertemplate\":\"investment_type=Revenue<br>value_k=%{x}<br>sum of count=%{y}<extra></extra>\",\"legendgroup\":\"Revenue\",\"marker\":{\"color\":\"#B6E880\",\"pattern\":{\"shape\":\"\"}},\"name\":\"Revenue\",\"offsetgroup\":\"Revenue\",\"orientation\":\"v\",\"showlegend\":true,\"x\":[400.0],\"xaxis\":\"x\",\"y\":[1],\"yaxis\":\"y\",\"type\":\"histogram\"},{\"alignmentgroup\":\"True\",\"bingroup\":\"x\",\"histfunc\":\"sum\",\"hovertemplate\":\"investment_type=Equity + Loan + Ad Space<br>value_k=%{x}<br>sum of count=%{y}<extra></extra>\",\"legendgroup\":\"Equity + Loan + Ad Space\",\"marker\":{\"color\":\"#FF97FF\",\"pattern\":{\"shape\":\"\"}},\"name\":\"Equity + Loan + Ad Space\",\"offsetgroup\":\"Equity + Loan + Ad Space\",\"orientation\":\"v\",\"showlegend\":true,\"x\":[500.0],\"xaxis\":\"x\",\"y\":[1],\"yaxis\":\"y\",\"type\":\"histogram\"},{\"alignmentgroup\":\"True\",\"bingroup\":\"x\",\"histfunc\":\"sum\",\"hovertemplate\":\"investment_type=Equity  + Royalty<br>value_k=%{x}<br>sum of count=%{y}<extra></extra>\",\"legendgroup\":\"Equity  + Royalty\",\"marker\":{\"color\":\"#FECB52\",\"pattern\":{\"shape\":\"\"}},\"name\":\"Equity  + Royalty\",\"offsetgroup\":\"Equity  + Royalty\",\"orientation\":\"v\",\"showlegend\":true,\"x\":[250.0],\"xaxis\":\"x\",\"y\":[1],\"yaxis\":\"y\",\"type\":\"histogram\"},{\"alignmentgroup\":\"True\",\"bingroup\":\"x\",\"histfunc\":\"sum\",\"hovertemplate\":\"investment_type=Equity + options<br>value_k=%{x}<br>sum of count=%{y}<extra></extra>\",\"legendgroup\":\"Equity + options\",\"marker\":{\"color\":\"#636efa\",\"pattern\":{\"shape\":\"\"}},\"name\":\"Equity + options\",\"offsetgroup\":\"Equity + options\",\"orientation\":\"v\",\"showlegend\":true,\"x\":[250.0],\"xaxis\":\"x\",\"y\":[1],\"yaxis\":\"y\",\"type\":\"histogram\"},{\"alignmentgroup\":\"True\",\"bingroup\":\"x\",\"histfunc\":\"sum\",\"hovertemplate\":\"investment_type=Equity + credit<br>value_k=%{x}<br>sum of count=%{y}<extra></extra>\",\"legendgroup\":\"Equity + credit\",\"marker\":{\"color\":\"#EF553B\",\"pattern\":{\"shape\":\"\"}},\"name\":\"Equity + credit\",\"offsetgroup\":\"Equity + credit\",\"orientation\":\"v\",\"showlegend\":true,\"x\":[100.0],\"xaxis\":\"x\",\"y\":[1],\"yaxis\":\"y\",\"type\":\"histogram\"},{\"alignmentgroup\":\"True\",\"bingroup\":\"x\",\"histfunc\":\"sum\",\"hovertemplate\":\"investment_type=Equity + Loan<br>value_k=%{x}<br>sum of count=%{y}<extra></extra>\",\"legendgroup\":\"Equity + Loan\",\"marker\":{\"color\":\"#00cc96\",\"pattern\":{\"shape\":\"\"}},\"name\":\"Equity + Loan\",\"offsetgroup\":\"Equity + Loan\",\"orientation\":\"v\",\"showlegend\":true,\"x\":[300.0],\"xaxis\":\"x\",\"y\":[1],\"yaxis\":\"y\",\"type\":\"histogram\"},{\"alignmentgroup\":\"True\",\"bingroup\":\"x\",\"histfunc\":\"sum\",\"hovertemplate\":\"investment_type=Equity + Advisory + Board<br>value_k=%{x}<br>sum of count=%{y}<extra></extra>\",\"legendgroup\":\"Equity + Advisory + Board\",\"marker\":{\"color\":\"#ab63fa\",\"pattern\":{\"shape\":\"\"}},\"name\":\"Equity + Advisory + Board\",\"offsetgroup\":\"Equity + Advisory + Board\",\"orientation\":\"v\",\"showlegend\":true,\"x\":[500.0,500.0],\"xaxis\":\"x\",\"y\":[1,1],\"yaxis\":\"y\",\"type\":\"histogram\"},{\"alignmentgroup\":\"True\",\"bingroup\":\"x\",\"histfunc\":\"sum\",\"hovertemplate\":\"investment_type=Equity+loan<br>value_k=%{x}<br>sum of count=%{y}<extra></extra>\",\"legendgroup\":\"Equity+loan\",\"marker\":{\"color\":\"#FFA15A\",\"pattern\":{\"shape\":\"\"}},\"name\":\"Equity+loan\",\"offsetgroup\":\"Equity+loan\",\"orientation\":\"v\",\"showlegend\":true,\"x\":[100.0],\"xaxis\":\"x\",\"y\":[1],\"yaxis\":\"y\",\"type\":\"histogram\"},{\"alignmentgroup\":\"True\",\"bingroup\":\"x\",\"histfunc\":\"sum\",\"hovertemplate\":\"investment_type=Equity + advisory <br>value_k=%{x}<br>sum of count=%{y}<extra></extra>\",\"legendgroup\":\"Equity + advisory \",\"marker\":{\"color\":\"#19d3f3\",\"pattern\":{\"shape\":\"\"}},\"name\":\"Equity + advisory \",\"offsetgroup\":\"Equity + advisory \",\"orientation\":\"v\",\"showlegend\":true,\"x\":[125.0],\"xaxis\":\"x\",\"y\":[1],\"yaxis\":\"y\",\"type\":\"histogram\"}],                        {\"template\":{\"data\":{\"histogram2dcontour\":[{\"type\":\"histogram2dcontour\",\"colorbar\":{\"outlinewidth\":0,\"ticks\":\"\"},\"colorscale\":[[0.0,\"#0d0887\"],[0.1111111111111111,\"#46039f\"],[0.2222222222222222,\"#7201a8\"],[0.3333333333333333,\"#9c179e\"],[0.4444444444444444,\"#bd3786\"],[0.5555555555555556,\"#d8576b\"],[0.6666666666666666,\"#ed7953\"],[0.7777777777777778,\"#fb9f3a\"],[0.8888888888888888,\"#fdca26\"],[1.0,\"#f0f921\"]]}],\"choropleth\":[{\"type\":\"choropleth\",\"colorbar\":{\"outlinewidth\":0,\"ticks\":\"\"}}],\"histogram2d\":[{\"type\":\"histogram2d\",\"colorbar\":{\"outlinewidth\":0,\"ticks\":\"\"},\"colorscale\":[[0.0,\"#0d0887\"],[0.1111111111111111,\"#46039f\"],[0.2222222222222222,\"#7201a8\"],[0.3333333333333333,\"#9c179e\"],[0.4444444444444444,\"#bd3786\"],[0.5555555555555556,\"#d8576b\"],[0.6666666666666666,\"#ed7953\"],[0.7777777777777778,\"#fb9f3a\"],[0.8888888888888888,\"#fdca26\"],[1.0,\"#f0f921\"]]}],\"heatmap\":[{\"type\":\"heatmap\",\"colorbar\":{\"outlinewidth\":0,\"ticks\":\"\"},\"colorscale\":[[0.0,\"#0d0887\"],[0.1111111111111111,\"#46039f\"],[0.2222222222222222,\"#7201a8\"],[0.3333333333333333,\"#9c179e\"],[0.4444444444444444,\"#bd3786\"],[0.5555555555555556,\"#d8576b\"],[0.6666666666666666,\"#ed7953\"],[0.7777777777777778,\"#fb9f3a\"],[0.8888888888888888,\"#fdca26\"],[1.0,\"#f0f921\"]]}],\"heatmapgl\":[{\"type\":\"heatmapgl\",\"colorbar\":{\"outlinewidth\":0,\"ticks\":\"\"},\"colorscale\":[[0.0,\"#0d0887\"],[0.1111111111111111,\"#46039f\"],[0.2222222222222222,\"#7201a8\"],[0.3333333333333333,\"#9c179e\"],[0.4444444444444444,\"#bd3786\"],[0.5555555555555556,\"#d8576b\"],[0.6666666666666666,\"#ed7953\"],[0.7777777777777778,\"#fb9f3a\"],[0.8888888888888888,\"#fdca26\"],[1.0,\"#f0f921\"]]}],\"contourcarpet\":[{\"type\":\"contourcarpet\",\"colorbar\":{\"outlinewidth\":0,\"ticks\":\"\"}}],\"contour\":[{\"type\":\"contour\",\"colorbar\":{\"outlinewidth\":0,\"ticks\":\"\"},\"colorscale\":[[0.0,\"#0d0887\"],[0.1111111111111111,\"#46039f\"],[0.2222222222222222,\"#7201a8\"],[0.3333333333333333,\"#9c179e\"],[0.4444444444444444,\"#bd3786\"],[0.5555555555555556,\"#d8576b\"],[0.6666666666666666,\"#ed7953\"],[0.7777777777777778,\"#fb9f3a\"],[0.8888888888888888,\"#fdca26\"],[1.0,\"#f0f921\"]]}],\"surface\":[{\"type\":\"surface\",\"colorbar\":{\"outlinewidth\":0,\"ticks\":\"\"},\"colorscale\":[[0.0,\"#0d0887\"],[0.1111111111111111,\"#46039f\"],[0.2222222222222222,\"#7201a8\"],[0.3333333333333333,\"#9c179e\"],[0.4444444444444444,\"#bd3786\"],[0.5555555555555556,\"#d8576b\"],[0.6666666666666666,\"#ed7953\"],[0.7777777777777778,\"#fb9f3a\"],[0.8888888888888888,\"#fdca26\"],[1.0,\"#f0f921\"]]}],\"mesh3d\":[{\"type\":\"mesh3d\",\"colorbar\":{\"outlinewidth\":0,\"ticks\":\"\"}}],\"scatter\":[{\"fillpattern\":{\"fillmode\":\"overlay\",\"size\":10,\"solidity\":0.2},\"type\":\"scatter\"}],\"parcoords\":[{\"type\":\"parcoords\",\"line\":{\"colorbar\":{\"outlinewidth\":0,\"ticks\":\"\"}}}],\"scatterpolargl\":[{\"type\":\"scatterpolargl\",\"marker\":{\"colorbar\":{\"outlinewidth\":0,\"ticks\":\"\"}}}],\"bar\":[{\"error_x\":{\"color\":\"#2a3f5f\"},\"error_y\":{\"color\":\"#2a3f5f\"},\"marker\":{\"line\":{\"color\":\"#E5ECF6\",\"width\":0.5},\"pattern\":{\"fillmode\":\"overlay\",\"size\":10,\"solidity\":0.2}},\"type\":\"bar\"}],\"scattergeo\":[{\"type\":\"scattergeo\",\"marker\":{\"colorbar\":{\"outlinewidth\":0,\"ticks\":\"\"}}}],\"scatterpolar\":[{\"type\":\"scatterpolar\",\"marker\":{\"colorbar\":{\"outlinewidth\":0,\"ticks\":\"\"}}}],\"histogram\":[{\"marker\":{\"pattern\":{\"fillmode\":\"overlay\",\"size\":10,\"solidity\":0.2}},\"type\":\"histogram\"}],\"scattergl\":[{\"type\":\"scattergl\",\"marker\":{\"colorbar\":{\"outlinewidth\":0,\"ticks\":\"\"}}}],\"scatter3d\":[{\"type\":\"scatter3d\",\"line\":{\"colorbar\":{\"outlinewidth\":0,\"ticks\":\"\"}},\"marker\":{\"colorbar\":{\"outlinewidth\":0,\"ticks\":\"\"}}}],\"scattermapbox\":[{\"type\":\"scattermapbox\",\"marker\":{\"colorbar\":{\"outlinewidth\":0,\"ticks\":\"\"}}}],\"scatterternary\":[{\"type\":\"scatterternary\",\"marker\":{\"colorbar\":{\"outlinewidth\":0,\"ticks\":\"\"}}}],\"scattercarpet\":[{\"type\":\"scattercarpet\",\"marker\":{\"colorbar\":{\"outlinewidth\":0,\"ticks\":\"\"}}}],\"carpet\":[{\"aaxis\":{\"endlinecolor\":\"#2a3f5f\",\"gridcolor\":\"white\",\"linecolor\":\"white\",\"minorgridcolor\":\"white\",\"startlinecolor\":\"#2a3f5f\"},\"baxis\":{\"endlinecolor\":\"#2a3f5f\",\"gridcolor\":\"white\",\"linecolor\":\"white\",\"minorgridcolor\":\"white\",\"startlinecolor\":\"#2a3f5f\"},\"type\":\"carpet\"}],\"table\":[{\"cells\":{\"fill\":{\"color\":\"#EBF0F8\"},\"line\":{\"color\":\"white\"}},\"header\":{\"fill\":{\"color\":\"#C8D4E3\"},\"line\":{\"color\":\"white\"}},\"type\":\"table\"}],\"barpolar\":[{\"marker\":{\"line\":{\"color\":\"#E5ECF6\",\"width\":0.5},\"pattern\":{\"fillmode\":\"overlay\",\"size\":10,\"solidity\":0.2}},\"type\":\"barpolar\"}],\"pie\":[{\"automargin\":true,\"type\":\"pie\"}]},\"layout\":{\"autotypenumbers\":\"strict\",\"colorway\":[\"#636efa\",\"#EF553B\",\"#00cc96\",\"#ab63fa\",\"#FFA15A\",\"#19d3f3\",\"#FF6692\",\"#B6E880\",\"#FF97FF\",\"#FECB52\"],\"font\":{\"color\":\"#2a3f5f\"},\"hovermode\":\"closest\",\"hoverlabel\":{\"align\":\"left\"},\"paper_bgcolor\":\"white\",\"plot_bgcolor\":\"#E5ECF6\",\"polar\":{\"bgcolor\":\"#E5ECF6\",\"angularaxis\":{\"gridcolor\":\"white\",\"linecolor\":\"white\",\"ticks\":\"\"},\"radialaxis\":{\"gridcolor\":\"white\",\"linecolor\":\"white\",\"ticks\":\"\"}},\"ternary\":{\"bgcolor\":\"#E5ECF6\",\"aaxis\":{\"gridcolor\":\"white\",\"linecolor\":\"white\",\"ticks\":\"\"},\"baxis\":{\"gridcolor\":\"white\",\"linecolor\":\"white\",\"ticks\":\"\"},\"caxis\":{\"gridcolor\":\"white\",\"linecolor\":\"white\",\"ticks\":\"\"}},\"coloraxis\":{\"colorbar\":{\"outlinewidth\":0,\"ticks\":\"\"}},\"colorscale\":{\"sequential\":[[0.0,\"#0d0887\"],[0.1111111111111111,\"#46039f\"],[0.2222222222222222,\"#7201a8\"],[0.3333333333333333,\"#9c179e\"],[0.4444444444444444,\"#bd3786\"],[0.5555555555555556,\"#d8576b\"],[0.6666666666666666,\"#ed7953\"],[0.7777777777777778,\"#fb9f3a\"],[0.8888888888888888,\"#fdca26\"],[1.0,\"#f0f921\"]],\"sequentialminus\":[[0.0,\"#0d0887\"],[0.1111111111111111,\"#46039f\"],[0.2222222222222222,\"#7201a8\"],[0.3333333333333333,\"#9c179e\"],[0.4444444444444444,\"#bd3786\"],[0.5555555555555556,\"#d8576b\"],[0.6666666666666666,\"#ed7953\"],[0.7777777777777778,\"#fb9f3a\"],[0.8888888888888888,\"#fdca26\"],[1.0,\"#f0f921\"]],\"diverging\":[[0,\"#8e0152\"],[0.1,\"#c51b7d\"],[0.2,\"#de77ae\"],[0.3,\"#f1b6da\"],[0.4,\"#fde0ef\"],[0.5,\"#f7f7f7\"],[0.6,\"#e6f5d0\"],[0.7,\"#b8e186\"],[0.8,\"#7fbc41\"],[0.9,\"#4d9221\"],[1,\"#276419\"]]},\"xaxis\":{\"gridcolor\":\"white\",\"linecolor\":\"white\",\"ticks\":\"\",\"title\":{\"standoff\":15},\"zerolinecolor\":\"white\",\"automargin\":true,\"zerolinewidth\":2},\"yaxis\":{\"gridcolor\":\"white\",\"linecolor\":\"white\",\"ticks\":\"\",\"title\":{\"standoff\":15},\"zerolinecolor\":\"white\",\"automargin\":true,\"zerolinewidth\":2},\"scene\":{\"xaxis\":{\"backgroundcolor\":\"#E5ECF6\",\"gridcolor\":\"white\",\"linecolor\":\"white\",\"showbackground\":true,\"ticks\":\"\",\"zerolinecolor\":\"white\",\"gridwidth\":2},\"yaxis\":{\"backgroundcolor\":\"#E5ECF6\",\"gridcolor\":\"white\",\"linecolor\":\"white\",\"showbackground\":true,\"ticks\":\"\",\"zerolinecolor\":\"white\",\"gridwidth\":2},\"zaxis\":{\"backgroundcolor\":\"#E5ECF6\",\"gridcolor\":\"white\",\"linecolor\":\"white\",\"showbackground\":true,\"ticks\":\"\",\"zerolinecolor\":\"white\",\"gridwidth\":2}},\"shapedefaults\":{\"line\":{\"color\":\"#2a3f5f\"}},\"annotationdefaults\":{\"arrowcolor\":\"#2a3f5f\",\"arrowhead\":0,\"arrowwidth\":1},\"geo\":{\"bgcolor\":\"white\",\"landcolor\":\"#E5ECF6\",\"subunitcolor\":\"white\",\"showland\":true,\"showlakes\":true,\"lakecolor\":\"white\"},\"title\":{\"x\":0.05},\"mapbox\":{\"style\":\"light\"}}},\"xaxis\":{\"anchor\":\"y\",\"domain\":[0.0,1.0],\"title\":{\"text\":\"Investment Size\"}},\"yaxis\":{\"anchor\":\"x\",\"domain\":[0.0,1.0],\"title\":{\"text\":\"sum of count\"}},\"legend\":{\"title\":{\"text\":\"investment_type\"},\"tracegroupgap\":0},\"title\":{\"text\":\"Histogram of Investments under $1M, by Investment Type & Shark (All)\"},\"barmode\":\"relative\",\"height\":500},                        {\"responsive\": true}                    ).then(function(){\n",
       "                            \n",
       "var gd = document.getElementById('368014e2-c7c7-45d3-a08b-84034e04d76e');\n",
       "var x = new MutationObserver(function (mutations, observer) {{\n",
       "        var display = window.getComputedStyle(gd).display;\n",
       "        if (!display || display === 'none') {{\n",
       "            console.log([gd, 'removed!']);\n",
       "            Plotly.purge(gd);\n",
       "            observer.disconnect();\n",
       "        }}\n",
       "}});\n",
       "\n",
       "// Listen for the removal of the full notebook cells\n",
       "var notebookContainer = gd.closest('#notebook-container');\n",
       "if (notebookContainer) {{\n",
       "    x.observe(notebookContainer, {childList: true});\n",
       "}}\n",
       "\n",
       "// Listen for the clearing of the current output cell\n",
       "var outputEl = gd.closest('.output');\n",
       "if (outputEl) {{\n",
       "    x.observe(outputEl, {childList: true});\n",
       "}}\n",
       "\n",
       "                        })                };                });            </script>        </div>"
      ]
     },
     "metadata": {},
     "output_type": "display_data"
    }
   ],
   "source": [
    "px.histogram(under1m_df, \n",
    "             x=\"value_k\", \n",
    "             y=\"count\",\n",
    "             title = \"Histogram of Investments under $1M, by Investment Type & Shark (\"+industry_selected+\")\",\n",
    "             color = \"investment_type\",\n",
    "             #facet_row = \"shark\",\n",
    "             height = 500\n",
    "            ).update_layout(xaxis_title = \"Investment Size\"\n",
    "            ).show()"
   ]
  },
  {
   "cell_type": "code",
   "execution_count": 58,
   "id": "3359d2bb",
   "metadata": {},
   "outputs": [],
   "source": [
    "# This function creates a heat map based on the metric and aggregation defined\n",
    "\n",
    "def heat_shark_season(metric, agg_method):\n",
    "    # Create pivot table of defined metrics with sharks on x-axis and season on y\n",
    "    heat_investments = industry_df.pivot_table(index='season', columns='shark', values=metric, aggfunc=agg_method)\n",
    "    \n",
    "    # Order investors (more active to least active)\n",
    "    heat_investments = heat_investments[['Mark', 'Lori', 'Barbara', 'Robert', 'Daymond', 'Kevin O']]\n",
    "    \n",
    "    # format colors of heatmap\n",
    "    sns.heatmap(heat_investments, annot=True, cmap='Greens'\n",
    "               ).set(title = (agg_method+\" of \"+metric+\" (\"+industry_selected+\")\").title())\n",
    "    plt.show()"
   ]
  },
  {
   "cell_type": "markdown",
   "id": "a2789a70",
   "metadata": {},
   "source": [
    "## Who makes the most investments?"
   ]
  },
  {
   "cell_type": "code",
   "execution_count": 59,
   "id": "b68ade0f",
   "metadata": {},
   "outputs": [
    {
     "data": {
      "image/png": "[encoded data removed]",
      "text/plain": [
       "<Figure size 640x480 with 2 Axes>"
      ]
     },
     "metadata": {},
     "output_type": "display_data"
    }
   ],
   "source": [
    "heat_shark_season(\"count\", 'sum')"
   ]
  },
  {
   "cell_type": "markdown",
   "id": "c86d1aa0",
   "metadata": {},
   "source": [
    "## Who invests the most dollars each season?"
   ]
  },
  {
   "cell_type": "code",
   "execution_count": 60,
   "id": "180b9508",
   "metadata": {
    "scrolled": false
   },
   "outputs": [
    {
     "data": {
      "image/png": "[encoded data removed]",
      "text/plain": [
       "<Figure size 640x480 with 2 Axes>"
      ]
     },
     "metadata": {},
     "output_type": "display_data"
    }
   ],
   "source": [
    "heat_shark_season(\"value_m\",'sum')"
   ]
  },
  {
   "cell_type": "markdown",
   "id": "335198d7",
   "metadata": {},
   "source": [
    "## Who invests the most per deal?"
   ]
  },
  {
   "cell_type": "code",
   "execution_count": 61,
   "id": "2d2d023e",
   "metadata": {},
   "outputs": [
    {
     "data": {
      "image/png": "[encoded data removed]",
      "text/plain": [
       "<Figure size 640x480 with 2 Axes>"
      ]
     },
     "metadata": {},
     "output_type": "display_data"
    }
   ],
   "source": [
    "heat_shark_season(\"value_m\",'mean')"
   ]
  },
  {
   "cell_type": "markdown",
   "id": "605e0e25",
   "metadata": {},
   "source": [
    "## Who makes the largest investment each season?"
   ]
  },
  {
   "cell_type": "code",
   "execution_count": 62,
   "id": "266379f7",
   "metadata": {
    "scrolled": false
   },
   "outputs": [
    {
     "data": {
      "image/png": "[encoded data removed]",
      "text/plain": [
       "<Figure size 640x480 with 2 Axes>"
      ]
     },
     "metadata": {},
     "output_type": "display_data"
    }
   ],
   "source": [
    "heat_shark_season(\"value_m\",'max')"
   ]
  },
  {
   "cell_type": "markdown",
   "id": "31f95132",
   "metadata": {},
   "source": [
    "## Success Rates\n",
    "While you want to optimize your chances of obtaining an investment, you'll also want to avoid sharks with a track record of failed investements or taking ownership of the business. "
   ]
  },
  {
   "cell_type": "markdown",
   "id": "dac10c6c",
   "metadata": {},
   "source": [
    "This code summarizes the company status for each shark's investments. It performs the following:\n",
    "- Count of company status (columns) by shark (rows)\n",
    "- Populates any columns that may be missing (i.e. this industry didn't have any companies 'sold')\n",
    "- Calculates a total column used to calculate ratios\n",
    "- Calculates success rates (existing/sold/acquired), existing rate (excludes sold/acquired), and lost ownership (sold/acquired)"
   ]
  },
  {
   "cell_type": "code",
   "execution_count": 63,
   "id": "c1334a57",
   "metadata": {
    "scrolled": false
   },
   "outputs": [
    {
     "data": {
      "text/html": [
       "<div>\n",
       "<style scoped>\n",
       "    .dataframe tbody tr th:only-of-type {\n",
       "        vertical-align: middle;\n",
       "    }\n",
       "\n",
       "    .dataframe tbody tr th {\n",
       "        vertical-align: top;\n",
       "    }\n",
       "\n",
       "    .dataframe thead th {\n",
       "        text-align: right;\n",
       "    }\n",
       "</style>\n",
       "<table border=\"1\" class=\"dataframe\">\n",
       "  <thead>\n",
       "    <tr style=\"text-align: right;\">\n",
       "      <th>company status</th>\n",
       "      <th>acquired</th>\n",
       "      <th>closed</th>\n",
       "      <th>existing</th>\n",
       "      <th>sold</th>\n",
       "      <th>total</th>\n",
       "      <th>success rate</th>\n",
       "      <th>existing rate</th>\n",
       "      <th>lost ownership</th>\n",
       "    </tr>\n",
       "    <tr>\n",
       "      <th>shark</th>\n",
       "      <th></th>\n",
       "      <th></th>\n",
       "      <th></th>\n",
       "      <th></th>\n",
       "      <th></th>\n",
       "      <th></th>\n",
       "      <th></th>\n",
       "      <th></th>\n",
       "    </tr>\n",
       "  </thead>\n",
       "  <tbody>\n",
       "    <tr>\n",
       "      <th>Barbara</th>\n",
       "      <td>0.0</td>\n",
       "      <td>11.0</td>\n",
       "      <td>32.0</td>\n",
       "      <td>2.0</td>\n",
       "      <td>45.0</td>\n",
       "      <td>0.76</td>\n",
       "      <td>0.71</td>\n",
       "      <td>0.29</td>\n",
       "    </tr>\n",
       "    <tr>\n",
       "      <th>Daymond</th>\n",
       "      <td>0.0</td>\n",
       "      <td>14.0</td>\n",
       "      <td>48.0</td>\n",
       "      <td>1.0</td>\n",
       "      <td>63.0</td>\n",
       "      <td>0.78</td>\n",
       "      <td>0.76</td>\n",
       "      <td>0.24</td>\n",
       "    </tr>\n",
       "    <tr>\n",
       "      <th>Kevin O</th>\n",
       "      <td>0.0</td>\n",
       "      <td>11.0</td>\n",
       "      <td>38.0</td>\n",
       "      <td>1.0</td>\n",
       "      <td>50.0</td>\n",
       "      <td>0.78</td>\n",
       "      <td>0.76</td>\n",
       "      <td>0.24</td>\n",
       "    </tr>\n",
       "    <tr>\n",
       "      <th>Lori</th>\n",
       "      <td>5.0</td>\n",
       "      <td>8.0</td>\n",
       "      <td>62.0</td>\n",
       "      <td>3.0</td>\n",
       "      <td>78.0</td>\n",
       "      <td>0.90</td>\n",
       "      <td>0.79</td>\n",
       "      <td>0.21</td>\n",
       "    </tr>\n",
       "    <tr>\n",
       "      <th>Mark</th>\n",
       "      <td>1.0</td>\n",
       "      <td>18.0</td>\n",
       "      <td>93.0</td>\n",
       "      <td>3.0</td>\n",
       "      <td>115.0</td>\n",
       "      <td>0.84</td>\n",
       "      <td>0.81</td>\n",
       "      <td>0.19</td>\n",
       "    </tr>\n",
       "    <tr>\n",
       "      <th>Robert</th>\n",
       "      <td>0.0</td>\n",
       "      <td>10.0</td>\n",
       "      <td>33.0</td>\n",
       "      <td>3.0</td>\n",
       "      <td>46.0</td>\n",
       "      <td>0.78</td>\n",
       "      <td>0.72</td>\n",
       "      <td>0.28</td>\n",
       "    </tr>\n",
       "  </tbody>\n",
       "</table>\n",
       "</div>"
      ],
      "text/plain": [
       "company status  acquired  closed  existing  sold  total  success rate  \\\n",
       "shark                                                                   \n",
       "Barbara              0.0    11.0      32.0   2.0   45.0          0.76   \n",
       "Daymond              0.0    14.0      48.0   1.0   63.0          0.78   \n",
       "Kevin O              0.0    11.0      38.0   1.0   50.0          0.78   \n",
       "Lori                 5.0     8.0      62.0   3.0   78.0          0.90   \n",
       "Mark                 1.0    18.0      93.0   3.0  115.0          0.84   \n",
       "Robert               0.0    10.0      33.0   3.0   46.0          0.78   \n",
       "\n",
       "company status  existing rate  lost ownership  \n",
       "shark                                          \n",
       "Barbara                  0.71            0.29  \n",
       "Daymond                  0.76            0.24  \n",
       "Kevin O                  0.76            0.24  \n",
       "Lori                     0.79            0.21  \n",
       "Mark                     0.81            0.19  \n",
       "Robert                   0.72            0.28  "
      ]
     },
     "execution_count": 63,
     "metadata": {},
     "output_type": "execute_result"
    }
   ],
   "source": [
    "# Create Table of Status by Shark\n",
    "success_pivot = industry_df.pivot_table(index=\"shark\", columns='company status', values=\"count\", aggfunc=sum)\n",
    "\n",
    "# Replace NA with zero\n",
    "success_pivot = success_pivot.fillna(0)\n",
    "\n",
    "# Create all possible columns if missing\n",
    "if 'acquired' not in success_pivot.columns:\n",
    "    success_pivot = success_pivot.assign(acquired=0)\n",
    "    \n",
    "if 'existing' not in success_pivot.columns:\n",
    "    success_pivot = success_pivot.assign(existing=0)\n",
    "    \n",
    "if 'closed' not in success_pivot.columns:\n",
    "    success_pivot = success_pivot.assign(closed=0)\n",
    "    \n",
    "if 'sold' not in success_pivot.columns:\n",
    "    success_pivot = success_pivot.assign(sold=0)\n",
    "\n",
    "\n",
    "# Calculate a Total Column\n",
    "success_pivot[\"total\"] = (success_pivot[\"acquired\"]+success_pivot[\"existing\"]\n",
    "                           +success_pivot[\"closed\"]+success_pivot[\"sold\"])\n",
    "\n",
    "# Calculate Success Rate (% of businesses that are not \"closed\")\n",
    "success_pivot[\"success rate\"] = ((success_pivot[\"total\"]-success_pivot[\"closed\"])/success_pivot[\"total\"]).round(2)\n",
    "\n",
    "# Calculate Existing Rate (not sold, acquired, or out of business)\n",
    "success_pivot[\"existing rate\"] = (success_pivot[\"existing\"]/success_pivot[\"total\"]).round(2)\n",
    "\n",
    "# Calculate Lost Ownership (sold or acquired)\n",
    "success_pivot[\"lost ownership\"] = ((success_pivot[\"total\"]-success_pivot[\"existing\"])/success_pivot[\"total\"]).round(2)\n",
    "\n",
    "success_pivot"
   ]
  },
  {
   "cell_type": "markdown",
   "id": "b759cafa",
   "metadata": {},
   "source": [
    "# Additional Considerations"
   ]
  },
  {
   "cell_type": "markdown",
   "id": "d1f885f4",
   "metadata": {},
   "source": [
    "- Chances of obtaining an investment are not solely based on historical investment counts. Additional information, such as ask vs. investment, annual sales, and concentration of investments by shark would be valuable datapoints to evaluate. \n",
    "- One shark may not want to take on the full investment burden. Understanding how often multiple sharks invest, and what the typical outcomes are, would be useful information for tailoring a Shark Tank pitch. \n",
    "- It would also be helpful to understand if/how behaviors have shifted over time. For example, are certain sharks over-leveraged in certain industry? Does there appear to be a macro-economic trend for certain industries over time (i.e. expansion of software companies)? In general, does the prior investing behavior of a shark have an impact on their future investment decisions."
   ]
  }
 ],
 "metadata": {
  "kernelspec": {
   "display_name": "Python 3 (ipykernel)",
   "language": "python",
   "name": "python3"
  },
  "language_info": {
   "codemirror_mode": {
    "name": "ipython",
    "version": 3
   },
   "file_extension": ".py",
   "mimetype": "text/x-python",
   "name": "python",
   "nbconvert_exporter": "python",
   "pygments_lexer": "ipython3",
   "version": "3.9.13"
  }
 },
 "nbformat": 4,
 "nbformat_minor": 5
}
